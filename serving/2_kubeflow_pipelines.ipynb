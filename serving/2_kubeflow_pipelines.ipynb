{
 "cells": [
  {
   "cell_type": "markdown",
   "metadata": {},
   "source": [
    "# Kubeflow pipelines\n",
    "Learning Objectives:\n",
    "\n",
    "1. Learn how to deploy a Kubeflow cluster on GCP\n",
    "2. Learn how to create a experiment in Kubeflow\n",
    "3. Learn how to package you code into a Kubeflow pipeline\n",
    "4. Learn how to run a Kubeflow pipeline in a repeatable and traceable way\n",
    "\n",
    "## Introduction\n",
    "In this notebook, we will first setup a Kubeflow cluster on GCP. Then, we will create a Kubeflow experiment and a Kubflow pipeline from our taxifare machine learning code. At last, we will run the pipeline on the Kubeflow cluster, providing us with a reproducible and traceable way to execute machine learning code."
   ]
  },
  {
   "cell_type": "code",
   "execution_count": 36,
   "metadata": {},
   "outputs": [
    {
     "name": "stdout",
     "output_type": "stream",
     "text": [
      "kfp==1.4.0\n",
      "kfp-pipeline-spec==0.1.5\n",
      "kfp-server-api==1.3.0\n",
      "Note: you may need to restart the kernel to use updated packages.\n"
     ]
    }
   ],
   "source": [
    "pip freeze | grep kfp || pip install kfp"
   ]
  },
  {
   "cell_type": "code",
   "execution_count": 37,
   "metadata": {},
   "outputs": [],
   "source": [
    "from os import path\n",
    "\n",
    "import kfp\n",
    "import kfp.compiler as compiler\n",
    "import kfp.components as comp\n",
    "import kfp.dsl as dsl\n",
    "import kfp.gcp as gcp\n",
    "import kfp.notebook"
   ]
  },
  {
   "cell_type": "markdown",
   "metadata": {},
   "source": [
    "## Setup a Kubeflow cluster on GCP\n",
    "TODO 1\n",
    "\n",
    "To deploy a Kubeflow cluster in your GCP project, use the AI Platform pipelines:\n",
    "\n",
    "1. Go to AI Platform Pipelines in the GCP Console.\n",
    "2. Create a new instance\n",
    "3. Hit \"Configure\"\n",
    "4. Check the box \"Allow access to the following Cloud APIs\"\n",
    "5. Hit \"Create Cluster\"\n",
    "6. Hit \"Deploy\"\n",
    "\n",
    "When the cluster is ready, go back to the AI Platform pipelines page and click on \"SETTINGS\" entry for your cluster. This will bring up a pop up with code snippets on how to access the cluster programmatically.\n",
    "\n",
    "Copy the \"host\" entry and set the \"HOST\" variable below with that."
   ]
  },
  {
   "cell_type": "code",
   "execution_count": 38,
   "metadata": {},
   "outputs": [],
   "source": [
    "HOST = \"2a9c23cb3f73571c-dot-europe-west1.pipelines.googleusercontent.com\"\n",
    "BUCKET = \"buddie_rec_data\""
   ]
  },
  {
   "cell_type": "markdown",
   "metadata": {},
   "source": [
    "## Create an experiment\n",
    "TODO 2\n",
    "\n",
    "We will start by creating a Kubeflow client to pilot the Kubeflow cluster:"
   ]
  },
  {
   "cell_type": "code",
   "execution_count": 39,
   "metadata": {},
   "outputs": [],
   "source": [
    "client = kfp.Client(host=HOST)"
   ]
  },
  {
   "cell_type": "code",
   "execution_count": 40,
   "metadata": {},
   "outputs": [
    {
     "data": {
      "text/plain": [
       "{'experiments': [{'created_at': datetime.datetime(2021, 2, 7, 12, 58, 25, tzinfo=tzutc()),\n",
       "                  'description': 'All runs created without specifying an '\n",
       "                                 'experiment will be grouped here.',\n",
       "                  'id': '97dd67b0-d056-468d-9f3e-78d236279ac9',\n",
       "                  'name': 'Default',\n",
       "                  'resource_references': None,\n",
       "                  'storage_state': 'STORAGESTATE_AVAILABLE'},\n",
       "                 {'created_at': datetime.datetime(2021, 2, 7, 13, 1, 17, tzinfo=tzutc()),\n",
       "                  'description': None,\n",
       "                  'id': '9dd39e50-32a3-4430-9593-4bba04df8fc5',\n",
       "                  'name': 'buddieRec',\n",
       "                  'resource_references': None,\n",
       "                  'storage_state': 'STORAGESTATE_AVAILABLE'}],\n",
       " 'next_page_token': None,\n",
       " 'total_size': 2}"
      ]
     },
     "execution_count": 40,
     "metadata": {},
     "output_type": "execute_result"
    }
   ],
   "source": [
    "client.list_experiments()"
   ]
  },
  {
   "cell_type": "code",
   "execution_count": 41,
   "metadata": {},
   "outputs": [
    {
     "data": {
      "text/html": [
       "<a href=\"http://2a9c23cb3f73571c-dot-europe-west1.pipelines.googleusercontent.com/#/experiments/details/9dd39e50-32a3-4430-9593-4bba04df8fc5\" target=\"_blank\" >Experiment details</a>."
      ],
      "text/plain": [
       "<IPython.core.display.HTML object>"
      ]
     },
     "metadata": {},
     "output_type": "display_data"
    }
   ],
   "source": [
    "exp = client.create_experiment(name='buddieRec')"
   ]
  },
  {
   "cell_type": "code",
   "execution_count": 42,
   "metadata": {},
   "outputs": [
    {
     "data": {
      "text/plain": [
       "{'experiments': [{'created_at': datetime.datetime(2021, 2, 7, 12, 58, 25, tzinfo=tzutc()),\n",
       "                  'description': 'All runs created without specifying an '\n",
       "                                 'experiment will be grouped here.',\n",
       "                  'id': '97dd67b0-d056-468d-9f3e-78d236279ac9',\n",
       "                  'name': 'Default',\n",
       "                  'resource_references': None,\n",
       "                  'storage_state': 'STORAGESTATE_AVAILABLE'},\n",
       "                 {'created_at': datetime.datetime(2021, 2, 7, 13, 1, 17, tzinfo=tzutc()),\n",
       "                  'description': None,\n",
       "                  'id': '9dd39e50-32a3-4430-9593-4bba04df8fc5',\n",
       "                  'name': 'buddieRec',\n",
       "                  'resource_references': None,\n",
       "                  'storage_state': 'STORAGESTATE_AVAILABLE'}],\n",
       " 'next_page_token': None,\n",
       " 'total_size': 2}"
      ]
     },
     "execution_count": 42,
     "metadata": {},
     "output_type": "execute_result"
    }
   ],
   "source": [
    "client.list_experiments()"
   ]
  },
  {
   "cell_type": "markdown",
   "metadata": {},
   "source": [
    "## Packaging your code into Kubeflow components\n",
    "We have packaged our taxifare ml pipeline into three components:\n",
    "\n",
    "- ./components/bq2gcs that creates the training and evaluation data from BigQuery and exports it to GCS\n",
    "- ./components/trainjob that launches the training container on AI-platform and exports the model\n",
    "- ./components/deploymodel that deploys the trained model to AI-platform as a REST API\n",
    "\n",
    "Each of these components has been wrapped into a Docker container, in the same way we did with the taxifare training code in the previous lab.\n",
    "\n",
    "If you inspect the code in these folders, you'll notice that the main.py or main.sh files contain the code we previously executed in the notebooks (loading the data to GCS from BQ, or launching a training job to AI-platform, etc.). The last line in the Dockerfile tells you that these files are executed when the container is run. So we just packaged our ml code into light container images for reproducibility.\n",
    "\n",
    "We have made it simple for you to build the container images and push them to the Google Cloud image registry gcr.io in your project:"
   ]
  },
  {
   "cell_type": "code",
   "execution_count": 43,
   "metadata": {},
   "outputs": [],
   "source": [
    "#sudo chmod 755 buddieRec/scripts/*.sh"
   ]
  },
  {
   "cell_type": "code",
   "execution_count": 44,
   "metadata": {},
   "outputs": [
    {
     "name": "stdout",
     "output_type": "stream",
     "text": [
      "Sending build context to Docker daemon  111.6kB\n",
      "Step 1/8 : FROM gcr.io/deeplearning-platform-release/tf2-cpu\n",
      " ---> d52504fdb37e\n",
      "Step 2/8 : COPY . /code\n",
      " ---> Using cache\n",
      " ---> 3fabde8207f3\n",
      "Step 3/8 : WORKDIR /code\n",
      " ---> Using cache\n",
      " ---> 81f17f2f8958\n",
      "Step 4/8 : RUN pip3 install cloudml-hypertune\n",
      " ---> Using cache\n",
      " ---> ccfa65eaf487\n",
      "Step 5/8 : RUN pip3 install tensorflow_recommenders\n",
      " ---> Using cache\n",
      " ---> 5b7124dd6459\n",
      "Step 6/8 : RUN pip3 install gcsfs\n",
      " ---> Using cache\n",
      " ---> e7ca4ad07b03\n",
      "Step 7/8 : RUN pip3 install tensorflow==2.3.0\n",
      " ---> Using cache\n",
      " ---> 10cf46dc8289\n",
      "Step 8/8 : ENTRYPOINT [\"python3\", \"-m\", \"trainer.task\"]\n",
      " ---> Using cache\n",
      " ---> 739abd0c9ba4\n",
      "Successfully built 739abd0c9ba4\n",
      "Successfully tagged gcr.io/buddie-270710/buddierec_training_container:latest\n"
     ]
    }
   ],
   "source": [
    "# Builds the taxifare trainer container in case you skipped the optional part of lab 1\n",
    "!buddieRec/scripts/build.sh"
   ]
  },
  {
   "cell_type": "code",
   "execution_count": 45,
   "metadata": {},
   "outputs": [
    {
     "name": "stdout",
     "output_type": "stream",
     "text": [
      "Using default tag: latest\n",
      "The push refers to repository [gcr.io/buddie-270710/buddierec_training_container]\n",
      "\n",
      "\u001b[1B9e6c8de0: Preparing \n",
      "\u001b[1B86ec1204: Preparing \n",
      "\u001b[1B056ea09e: Preparing \n",
      "\u001b[1B63d4fcbe: Preparing \n",
      "\u001b[1B9007822d: Preparing \n",
      "\u001b[1Bd16ae66b: Preparing \n",
      "\u001b[1B3ee85360: Preparing \n",
      "\u001b[1B127a9d4c: Preparing \n",
      "\u001b[1B9c3bf55d: Preparing \n",
      "\u001b[1Be8fd4ff0: Preparing \n",
      "\u001b[1B0370cab4: Preparing \n",
      "\u001b[1Bb6c33408: Preparing \n",
      "\u001b[1B4b160541: Preparing \n",
      "\u001b[1B8b7fb87e: Preparing \n",
      "\u001b[1Bd372a1da: Preparing \n",
      "\u001b[1B0d62afb9: Preparing \n",
      "\u001b[1Bfb2f7eb0: Preparing \n",
      "\u001b[1Bdeadeefa: Preparing \n",
      "\u001b[1B62bfc51d: Preparing \n",
      "\u001b[1B3b0fe7f1: Preparing \n",
      "\u001b[1B9f02e96e: Preparing \n",
      "\u001b[1Befae17e5: Preparing \n",
      "\u001b[1B818f1f96: Preparing \n",
      "\u001b[1B2392e386: Preparing \n",
      "\u001b[2B2392e386: Layer already exists 23A\u001b[2K\u001b[20A\u001b[2K\u001b[18A\u001b[2K\u001b[14A\u001b[2K\u001b[9A\u001b[2K\u001b[5A\u001b[2Klatest: digest: sha256:4f4ec83008562c942c502908b31a68fc663f2b1739be9aba90ef92a1552f89a3 size: 5557\n"
     ]
    }
   ],
   "source": [
    "# Pushes the taxifare trainer container to gcr/io\n",
    "!buddieRec/scripts/push.sh"
   ]
  },
  {
   "cell_type": "code",
   "execution_count": 46,
   "metadata": {},
   "outputs": [
    {
     "name": "stdout",
     "output_type": "stream",
     "text": [
      "/bin/sh: line 0: cd: pipelines: No such file or directory\r\n"
     ]
    }
   ],
   "source": [
    "# Builds the KF component containers and push them to gcr/io\n",
    "!cd pipelines && make components"
   ]
  },
  {
   "cell_type": "markdown",
   "metadata": {},
   "source": [
    "Now that the container images are pushed to the [registry in your project](https://console.cloud.google.com/gcr), we need to create yaml files describing to Kubeflow how to use these containers. It boils down essentially to\n",
    "\n",
    "- describing what arguments Kubeflow needs to pass to the containers when it runs them\n",
    "- telling Kubeflow where to fetch the corresponding Docker images\n",
    "\n",
    "In the cells below, we have three of these \"Kubeflow component description files\", one for each of our components.\n",
    "\n",
    "\n",
    "**IMPORTANT: Modify the image URI in the cell below to reflect that you pushed the images into the gcr.io associated with your project.**"
   ]
  },
  {
   "cell_type": "code",
   "execution_count": 47,
   "metadata": {},
   "outputs": [
    {
     "name": "stdout",
     "output_type": "stream",
     "text": [
      "Overwriting bq2gcs.yaml\n"
     ]
    }
   ],
   "source": [
    "%%writefile bq2gcs.yaml\n",
    "\n",
    "name: bq2gcs\n",
    "    \n",
    "description: |\n",
    "    This component creates the training and\n",
    "    validation datasets as BiqQuery tables and export\n",
    "    them into a Google Cloud Storage bucket at\n",
    "    gs://<BUCKET>/taxifare/data.\n",
    "        \n",
    "inputs:\n",
    "    - {name: Input Bucket , type: String, description: 'GCS directory path.'}\n",
    "\n",
    "implementation:\n",
    "    container:\n",
    "        image: gcr.io/buddie-270710/buddieRec-bq2gcs\n",
    "        args: [\"--bucket\", {inputValue: Input Bucket}]"
   ]
  },
  {
   "cell_type": "code",
   "execution_count": 48,
   "metadata": {},
   "outputs": [
    {
     "name": "stdout",
     "output_type": "stream",
     "text": [
      "Overwriting trainjob.yaml\n"
     ]
    }
   ],
   "source": [
    "%%writefile trainjob.yaml\n",
    "\n",
    "name: trainjob\n",
    "    \n",
    "description: |\n",
    "    This component trains a model to predict that taxi fare in NY.\n",
    "    It takes as argument a GCS bucket and expects its training and\n",
    "    eval data to be at gs://<BUCKET>/taxifare/data/ and will export\n",
    "    the trained model at  gs://<BUCKET>/taxifare/model/.\n",
    "        \n",
    "inputs:\n",
    "    - {name: Input Bucket , type: String, description: 'GCS directory path.'}\n",
    "\n",
    "implementation:\n",
    "    container:\n",
    "        image: gcr.io/buddie-270710/buddieRec-trainjob\n",
    "        args: [{inputValue: Input Bucket}]"
   ]
  },
  {
   "cell_type": "code",
   "execution_count": 49,
   "metadata": {},
   "outputs": [
    {
     "name": "stdout",
     "output_type": "stream",
     "text": [
      "Overwriting deploymodel.yaml\n"
     ]
    }
   ],
   "source": [
    "%%writefile deploymodel.yaml\n",
    "\n",
    "name: deploymodel\n",
    "    \n",
    "description: |\n",
    "    This component deploys a trained taxifare model on GCP as taxifare:dnn.\n",
    "    It takes as argument a GCS bucket and expects the model to deploy \n",
    "    to be found at gs://<BUCKET>/taxifare/model/export/savedmodel/\n",
    "        \n",
    "inputs:\n",
    "    - {name: Input Bucket , type: String, description: 'GCS directory path.'}\n",
    "\n",
    "implementation:\n",
    "    container:\n",
    "        image: gcr.io/buddie-270710/buddieRec-deploymodel\n",
    "        args: [{inputValue: Input Bucket}]"
   ]
  },
  {
   "cell_type": "markdown",
   "metadata": {},
   "source": [
    "## Create a Kubeflow pipeline\n",
    "The code below creates a kubeflow pipeline by decorating a regular function with the @dsl.pipeline decorator. Now the arguments of this decorated function will be the input parameters of the Kubeflow pipeline.\n",
    "\n",
    "Inside the function, we describe the pipeline by\n",
    "\n",
    "- loading the yaml component files we created above into a Kubeflow op\n",
    "- specifying the order into which the Kubeflow ops should be run"
   ]
  },
  {
   "cell_type": "code",
   "execution_count": 50,
   "metadata": {},
   "outputs": [],
   "source": [
    "PIPELINE_TAR = 'buddieRec.tar.gz'\n",
    "BQ2GCS_YAML = './bq2gcs.yaml'\n",
    "TRAINJOB_YAML = './trainjob.yaml'\n",
    "DEPLOYMODEL_YAML = './deploymodel.yaml'\n",
    "\n",
    "\n",
    "@dsl.pipeline(\n",
    "    name='BuddieRec',\n",
    "    description='Train a ml model to predict contentId according to clientId')\n",
    "def pipeline(gcs_bucket_name='buddie_rec_data'):\n",
    "\n",
    "    bq2gcs_op = comp.load_component_from_file(BQ2GCS_YAML)\n",
    "    bq2gcs = bq2gcs_op(\n",
    "        input_bucket=gcs_bucket_name,\n",
    "    )\n",
    "\n",
    "    trainjob_op = comp.load_component_from_file(TRAINJOB_YAML)\n",
    "    trainjob = trainjob_op(\n",
    "        input_bucket=gcs_bucket_name,\n",
    "    )\n",
    "\n",
    "    deploymodel_op = comp.load_component_from_file(DEPLOYMODEL_YAML)\n",
    "    deploymodel = deploymodel_op(\n",
    "        input_bucket=gcs_bucket_name,\n",
    "    )\n",
    "\n",
    "    trainjob.after(bq2gcs)\n",
    "    deploymodel.after(trainjob)"
   ]
  },
  {
   "cell_type": "markdown",
   "metadata": {},
   "source": [
    "The pipeline function above is then used by the Kubeflow compiler to create a Kubeflow pipeline artifact that can be either uploaded to the Kubeflow cluster from the UI, or programatically, as we will do below:"
   ]
  },
  {
   "cell_type": "code",
   "execution_count": 51,
   "metadata": {},
   "outputs": [],
   "source": [
    "compiler.Compiler().compile(pipeline, PIPELINE_TAR)"
   ]
  },
  {
   "cell_type": "code",
   "execution_count": 52,
   "metadata": {},
   "outputs": [
    {
     "name": "stdout",
     "output_type": "stream",
     "text": [
      "buddieRec.tar.gz\r\n"
     ]
    }
   ],
   "source": [
    "ls $PIPELINE_TAR"
   ]
  },
  {
   "cell_type": "markdown",
   "metadata": {},
   "source": [
    "If you untar and uzip this pipeline artifact, you'll see that the compiler has transformed the Python description of the pipeline into yaml description!\n",
    "\n",
    "Now let's feed Kubeflow with our pipeline and run it using our client:"
   ]
  },
  {
   "cell_type": "code",
   "execution_count": 53,
   "metadata": {},
   "outputs": [
    {
     "data": {
      "text/html": [
       "<a href=\"http://2a9c23cb3f73571c-dot-europe-west1.pipelines.googleusercontent.com/#/runs/details/0f23550e-5e5f-4399-b7d1-f58567af2790\" target=\"_blank\" >Run details</a>."
      ],
      "text/plain": [
       "<IPython.core.display.HTML object>"
      ]
     },
     "metadata": {},
     "output_type": "display_data"
    }
   ],
   "source": [
    "run = client.run_pipeline(\n",
    "    experiment_id=exp.id, \n",
    "    job_name='buddieRec', \n",
    "    pipeline_package_path='buddieRec.tar.gz', \n",
    "    params={\n",
    "        'gcs_bucket_name': BUCKET,\n",
    "    },\n",
    ")"
   ]
  },
  {
   "cell_type": "markdown",
   "metadata": {},
   "source": [
    "Have a look at the link to monitor the run.\n",
    "\n",
    "Now all the runs are nicely organized under the experiment in the UI, and new runs can be either manually launched or scheduled through the UI in a completely repeatable and traceable way!"
   ]
  },
  {
   "cell_type": "code",
   "execution_count": null,
   "metadata": {},
   "outputs": [],
   "source": []
  }
 ],
 "metadata": {
  "kernelspec": {
   "display_name": "Python 3",
   "language": "python",
   "name": "python3"
  },
  "language_info": {
   "codemirror_mode": {
    "name": "ipython",
    "version": 3
   },
   "file_extension": ".py",
   "mimetype": "text/x-python",
   "name": "python",
   "nbconvert_exporter": "python",
   "pygments_lexer": "ipython3",
   "version": "3.6.12"
  }
 },
 "nbformat": 4,
 "nbformat_minor": 4
}
