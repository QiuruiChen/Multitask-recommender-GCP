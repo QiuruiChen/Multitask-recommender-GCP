{
 "cells": [
  {
   "cell_type": "markdown",
   "metadata": {},
   "source": [
    "# Exporting data from BigQuery to Google cloud storage\n",
    "\n",
    "In this notebook, we export BigQuery data to GCS so that we can reuse our Keras model that was developed on CSV data.\n",
    "\n",
    "Uncomment the following line if you are running the notebook locally:"
   ]
  },
  {
   "cell_type": "code",
   "execution_count": 1,
   "metadata": {},
   "outputs": [],
   "source": [
    "# !sudo chown -R jupyter:jupyter /home/jupyter/training-data-analyst"
   ]
  },
  {
   "cell_type": "code",
   "execution_count": 2,
   "metadata": {},
   "outputs": [],
   "source": [
    "%load_ext google.cloud.bigquery"
   ]
  },
  {
   "cell_type": "code",
   "execution_count": 3,
   "metadata": {},
   "outputs": [],
   "source": [
    "import os\n",
    "\n",
    "from google.cloud import bigquery"
   ]
  },
  {
   "cell_type": "code",
   "execution_count": 4,
   "metadata": {},
   "outputs": [],
   "source": [
    "# Change with your own bucket and project below:\n",
    "BUCKET =  \"buddie_rec_data\"\n",
    "PROJECT = \"buddie-270710\"\n",
    "\n",
    "OUTDIR = \"gs://{bucket}/buddieRec/data\".format(bucket=BUCKET)\n",
    "\n",
    "os.environ['BUCKET'] = BUCKET\n",
    "os.environ['OUTDIR'] = OUTDIR\n",
    "os.environ['PROJECT'] = PROJECT"
   ]
  },
  {
   "cell_type": "markdown",
   "metadata": {},
   "source": [
    "## cretae BigQuery tables"
   ]
  },
  {
   "cell_type": "code",
   "execution_count": 5,
   "metadata": {},
   "outputs": [
    {
     "name": "stdout",
     "output_type": "stream",
     "text": [
      "Dataset already exists\n"
     ]
    }
   ],
   "source": [
    "bq = bigquery.Client(project = PROJECT)\n",
    "dataset = bigquery.Dataset(bq.dataset(\"buddieRec\"))\n",
    "\n",
    "try:\n",
    "    bq.create_dataset(dataset)\n",
    "    print(\"Dataset created\")\n",
    "except:\n",
    "    print(\"Dataset already exists\")"
   ]
  },
  {
   "cell_type": "code",
   "execution_count": 6,
   "metadata": {},
   "outputs": [
    {
     "data": {
      "text/html": [
       "<div>\n",
       "<style scoped>\n",
       "    .dataframe tbody tr th:only-of-type {\n",
       "        vertical-align: middle;\n",
       "    }\n",
       "\n",
       "    .dataframe tbody tr th {\n",
       "        vertical-align: top;\n",
       "    }\n",
       "\n",
       "    .dataframe thead th {\n",
       "        text-align: right;\n",
       "    }\n",
       "</style>\n",
       "<table border=\"1\" class=\"dataframe\">\n",
       "  <thead>\n",
       "    <tr style=\"text-align: right;\">\n",
       "      <th></th>\n",
       "    </tr>\n",
       "  </thead>\n",
       "  <tbody>\n",
       "  </tbody>\n",
       "</table>\n",
       "</div>"
      ],
      "text/plain": [
       "Empty DataFrame\n",
       "Columns: []\n",
       "Index: []"
      ]
     },
     "execution_count": 6,
     "metadata": {},
     "output_type": "execute_result"
    }
   ],
   "source": [
    "%%bigquery\n",
    "\n",
    "CREATE OR REPLACE TABLE buddieRec.ga_training_data AS\n",
    "\n",
    "SELECT \n",
    "    clientId, \n",
    "    timeOnPage,\n",
    "    (\n",
    "    SELECT STRING_AGG(part, '/' ORDER BY index) \n",
    "    FROM UNNEST(SPLIT(pagePath, '/')) part WITH OFFSET index \n",
    "    WHERE index BETWEEN 1 AND 3\n",
    "  ) contentId, \n",
    "    organization\n",
    "FROM (select split(clientId,'.')[offset (0)] as clientId, \n",
    "        split(pagePath,'?')[offset(0)] as pagePath,\n",
    "        timeOnPage,\n",
    "        split(hostname,'.')[offset(0)] as organization\n",
    "From `buddie-270710.ga_data.rec_data`)\n",
    "WHERE ABS(MOD(FARM_FINGERPRINT(`clientId`),10)) < 8 AND RAND() < 1"
   ]
  },
  {
   "cell_type": "code",
   "execution_count": 7,
   "metadata": {},
   "outputs": [
    {
     "data": {
      "text/html": [
       "<div>\n",
       "<style scoped>\n",
       "    .dataframe tbody tr th:only-of-type {\n",
       "        vertical-align: middle;\n",
       "    }\n",
       "\n",
       "    .dataframe tbody tr th {\n",
       "        vertical-align: top;\n",
       "    }\n",
       "\n",
       "    .dataframe thead th {\n",
       "        text-align: right;\n",
       "    }\n",
       "</style>\n",
       "<table border=\"1\" class=\"dataframe\">\n",
       "  <thead>\n",
       "    <tr style=\"text-align: right;\">\n",
       "      <th></th>\n",
       "    </tr>\n",
       "  </thead>\n",
       "  <tbody>\n",
       "  </tbody>\n",
       "</table>\n",
       "</div>"
      ],
      "text/plain": [
       "Empty DataFrame\n",
       "Columns: []\n",
       "Index: []"
      ]
     },
     "execution_count": 7,
     "metadata": {},
     "output_type": "execute_result"
    }
   ],
   "source": [
    "%%bigquery\n",
    "\n",
    "CREATE OR REPLACE TABLE buddieRec.ga_valid_data AS\n",
    "\n",
    "SELECT \n",
    "    clientId, \n",
    "    timeOnPage,\n",
    "    (\n",
    "    SELECT STRING_AGG(part, '/' ORDER BY index) \n",
    "    FROM UNNEST(SPLIT(pagePath, '/')) part WITH OFFSET index \n",
    "    WHERE index BETWEEN 1 AND 3\n",
    "  ) contentId,\n",
    "    organization\n",
    "FROM (select split(clientId,'.')[offset (0)] as clientId, \n",
    "        split(pagePath,'?')[offset(0)] as pagePath,\n",
    "        timeOnPage,\n",
    "        split(hostname,'.')[offset(0)] as organization\n",
    "From `buddie-270710.ga_data.rec_data`)\n",
    "WHERE ABS(MOD(FARM_FINGERPRINT(`clientId`),10)) = 8 AND RAND() < 1\n"
   ]
  },
  {
   "cell_type": "code",
   "execution_count": 8,
   "metadata": {},
   "outputs": [
    {
     "data": {
      "text/html": [
       "<div>\n",
       "<style scoped>\n",
       "    .dataframe tbody tr th:only-of-type {\n",
       "        vertical-align: middle;\n",
       "    }\n",
       "\n",
       "    .dataframe tbody tr th {\n",
       "        vertical-align: top;\n",
       "    }\n",
       "\n",
       "    .dataframe thead th {\n",
       "        text-align: right;\n",
       "    }\n",
       "</style>\n",
       "<table border=\"1\" class=\"dataframe\">\n",
       "  <thead>\n",
       "    <tr style=\"text-align: right;\">\n",
       "      <th></th>\n",
       "    </tr>\n",
       "  </thead>\n",
       "  <tbody>\n",
       "  </tbody>\n",
       "</table>\n",
       "</div>"
      ],
      "text/plain": [
       "Empty DataFrame\n",
       "Columns: []\n",
       "Index: []"
      ]
     },
     "execution_count": 8,
     "metadata": {},
     "output_type": "execute_result"
    }
   ],
   "source": [
    "%%bigquery\n",
    "\n",
    "CREATE OR REPLACE TABLE buddieRec.uniqClientIds AS\n",
    "\n",
    "SELECT \n",
    "    distinct(SPLIT(clientId, '.')[OFFSET(1)]) as clientId\n",
    "FROM `buddie-270710.ga_data.rec_data`\n",
    "GROUP BY clientId\n"
   ]
  },
  {
   "cell_type": "code",
   "execution_count": 9,
   "metadata": {},
   "outputs": [
    {
     "data": {
      "text/html": [
       "<div>\n",
       "<style scoped>\n",
       "    .dataframe tbody tr th:only-of-type {\n",
       "        vertical-align: middle;\n",
       "    }\n",
       "\n",
       "    .dataframe tbody tr th {\n",
       "        vertical-align: top;\n",
       "    }\n",
       "\n",
       "    .dataframe thead th {\n",
       "        text-align: right;\n",
       "    }\n",
       "</style>\n",
       "<table border=\"1\" class=\"dataframe\">\n",
       "  <thead>\n",
       "    <tr style=\"text-align: right;\">\n",
       "      <th></th>\n",
       "    </tr>\n",
       "  </thead>\n",
       "  <tbody>\n",
       "  </tbody>\n",
       "</table>\n",
       "</div>"
      ],
      "text/plain": [
       "Empty DataFrame\n",
       "Columns: []\n",
       "Index: []"
      ]
     },
     "execution_count": 9,
     "metadata": {},
     "output_type": "execute_result"
    }
   ],
   "source": [
    "%%bigquery \n",
    "\n",
    "CREATE OR REPLACE TABLE buddieRec.uniqOrganizations AS\n",
    "\n",
    "SELECT \n",
    "    DISTINCT(SPLIT(hostname, '.')[OFFSET(0)])  organization \n",
    "FROM `buddie-270710.ga_data.rec_data`\n",
    "GROUP BY SPLIT(hostname, '.')[OFFSET(0)] "
   ]
  },
  {
   "cell_type": "code",
   "execution_count": 10,
   "metadata": {},
   "outputs": [
    {
     "data": {
      "text/html": [
       "<div>\n",
       "<style scoped>\n",
       "    .dataframe tbody tr th:only-of-type {\n",
       "        vertical-align: middle;\n",
       "    }\n",
       "\n",
       "    .dataframe tbody tr th {\n",
       "        vertical-align: top;\n",
       "    }\n",
       "\n",
       "    .dataframe thead th {\n",
       "        text-align: right;\n",
       "    }\n",
       "</style>\n",
       "<table border=\"1\" class=\"dataframe\">\n",
       "  <thead>\n",
       "    <tr style=\"text-align: right;\">\n",
       "      <th></th>\n",
       "    </tr>\n",
       "  </thead>\n",
       "  <tbody>\n",
       "  </tbody>\n",
       "</table>\n",
       "</div>"
      ],
      "text/plain": [
       "Empty DataFrame\n",
       "Columns: []\n",
       "Index: []"
      ]
     },
     "execution_count": 10,
     "metadata": {},
     "output_type": "execute_result"
    }
   ],
   "source": [
    "%%bigquery\n",
    "\n",
    "CREATE OR REPLACE TABLE buddieRec.uniqContentIds AS\n",
    "\n",
    "select \n",
    "    DISTINCT(SPLIT(pagePath, \"?\")[ORDINAL(1)]) as contentId\n",
    "FROM `buddie-270710.ga_data.rec_data`\n",
    "GROUP BY pagePath"
   ]
  },
  {
   "cell_type": "markdown",
   "metadata": {},
   "source": [
    "## export the tables as CSV files"
   ]
  },
  {
   "cell_type": "code",
   "execution_count": 11,
   "metadata": {},
   "outputs": [
    {
     "name": "stdout",
     "output_type": "stream",
     "text": [
      "Deleting current contents of gs://buddie_rec_data/buddieRec/data\n",
      "Extracting training data to gs://buddie_rec_data/buddieRec/data\n",
      "Extracting validation data to gs://buddie_rec_data/buddieRec/data\n",
      "Extracting unique clientIds to gs://buddie_rec_data/buddieRec/data\n",
      "Extracting unique organizations to gs://buddie_rec_data/buddieRec/data\n",
      "Extracting contentIds to gs://buddie_rec_data/buddieRec/data\n",
      "      5236  2021-02-06T20:02:10Z  gs://buddie_rec_data/buddieRec/data/rec-clientIds.csv\n",
      "      1993  2021-02-06T20:02:19Z  gs://buddie_rec_data/buddieRec/data/rec-contentIds.csv\n",
      "        73  2021-02-06T20:02:14Z  gs://buddie_rec_data/buddieRec/data/rec-orgIds.csv\n",
      "     44707  2021-02-06T20:02:01Z  gs://buddie_rec_data/buddieRec/data/rec-train-000000000000.csv\n",
      "      5210  2021-02-06T20:02:06Z  gs://buddie_rec_data/buddieRec/data/rec-valid-000000000000.csv\n",
      "TOTAL: 5 objects, 57219 bytes (55.88 KiB)\n"
     ]
    },
    {
     "name": "stderr",
     "output_type": "stream",
     "text": [
      "\r",
      "Waiting on bqjob_r1bf39489ca5126a8_0000017778efd2cb_1 ... (0s) Current status: RUNNING\r",
      "                                                                                      \r",
      "Waiting on bqjob_r1bf39489ca5126a8_0000017778efd2cb_1 ... (1s) Current status: RUNNING\r",
      "                                                                                      \r",
      "Waiting on bqjob_r1bf39489ca5126a8_0000017778efd2cb_1 ... (2s) Current status: RUNNING\r",
      "                                                                                      \r",
      "Waiting on bqjob_r1bf39489ca5126a8_0000017778efd2cb_1 ... (2s) Current status: DONE   \n",
      "\r",
      "Waiting on bqjob_r497016a145e6c3cd_0000017778efe438_1 ... (0s) Current status: RUNNING\r",
      "                                                                                      \r",
      "Waiting on bqjob_r497016a145e6c3cd_0000017778efe438_1 ... (1s) Current status: RUNNING\r",
      "                                                                                      \r",
      "Waiting on bqjob_r497016a145e6c3cd_0000017778efe438_1 ... (2s) Current status: RUNNING\r",
      "                                                                                      \r",
      "Waiting on bqjob_r497016a145e6c3cd_0000017778efe438_1 ... (2s) Current status: DONE   \n",
      "\r",
      "Waiting on bqjob_r6d8bb4d19a58d2b8_0000017778eff537_1 ... (0s) Current status: RUNNING\r",
      "                                                                                      \r",
      "Waiting on bqjob_r6d8bb4d19a58d2b8_0000017778eff537_1 ... (1s) Current status: RUNNING\r",
      "                                                                                      \r",
      "Waiting on bqjob_r6d8bb4d19a58d2b8_0000017778eff537_1 ... (2s) Current status: RUNNING\r",
      "                                                                                      \r",
      "Waiting on bqjob_r6d8bb4d19a58d2b8_0000017778eff537_1 ... (2s) Current status: DONE   \n",
      "\r",
      "Waiting on bqjob_r12f173ca89149776_0000017778f00672_1 ... (0s) Current status: RUNNING\r",
      "                                                                                      \r",
      "Waiting on bqjob_r12f173ca89149776_0000017778f00672_1 ... (1s) Current status: RUNNING\r",
      "                                                                                      \r",
      "Waiting on bqjob_r12f173ca89149776_0000017778f00672_1 ... (2s) Current status: RUNNING\r",
      "                                                                                      \r",
      "Waiting on bqjob_r12f173ca89149776_0000017778f00672_1 ... (2s) Current status: DONE   \n",
      "\r",
      "Waiting on bqjob_r17834b0e0f93921d_0000017778f017dc_1 ... (0s) Current status: RUNNING\r",
      "                                                                                      \r",
      "Waiting on bqjob_r17834b0e0f93921d_0000017778f017dc_1 ... (1s) Current status: RUNNING\r",
      "                                                                                      \r",
      "Waiting on bqjob_r17834b0e0f93921d_0000017778f017dc_1 ... (2s) Current status: RUNNING\r",
      "                                                                                      \r",
      "Waiting on bqjob_r17834b0e0f93921d_0000017778f017dc_1 ... (2s) Current status: DONE   \n"
     ]
    }
   ],
   "source": [
    "%%bash\n",
    "\n",
    "echo \"Deleting current contents of $OUTDIR\"\n",
    "gsutil -m -q rm -rf $OUTDIR\n",
    "\n",
    "echo \"Extracting training data to $OUTDIR\"\n",
    "bq --location=europe-west4 extract \\\n",
    "   --destination_format CSV  \\\n",
    "   --field_delimiter \",\" --noprint_header \\\n",
    "   buddieRec.ga_training_data \\\n",
    "   $OUTDIR/rec-train-*.csv\n",
    "\n",
    "echo \"Extracting validation data to $OUTDIR\"\n",
    "bq --location=europe-west4 extract \\\n",
    "   --destination_format CSV  \\\n",
    "   --field_delimiter \",\" --noprint_header \\\n",
    "   buddieRec.ga_valid_data \\\n",
    "   $OUTDIR/rec-valid-*.csv\n",
    "\n",
    "echo \"Extracting unique clientIds to $OUTDIR\"\n",
    "bq --location=europe-west4 extract \\\n",
    "   --destination_format CSV  \\\n",
    "   --field_delimiter \",\" --noprint_header \\\n",
    "   buddieRec.uniqClientIds \\\n",
    "   $OUTDIR/rec-clientIds.csv\n",
    "\n",
    "\n",
    "echo \"Extracting unique organizations to $OUTDIR\"\n",
    "bq --location=europe-west4 extract \\\n",
    "   --destination_format CSV  \\\n",
    "   --field_delimiter \",\" --noprint_header \\\n",
    "   buddieRec.uniqOrganizations \\\n",
    "   $OUTDIR/rec-orgIds.csv\n",
    "\n",
    "\n",
    "echo \"Extracting contentIds to $OUTDIR\"\n",
    "bq --location=europe-west4 extract \\\n",
    "   --destination_format CSV  \\\n",
    "   --field_delimiter \",\" --noprint_header \\\n",
    "   buddieRec.uniqContentIds \\\n",
    "   $OUTDIR/rec-contentIds.csv\n",
    "\n",
    "gsutil ls -l $OUTDIR"
   ]
  },
  {
   "cell_type": "code",
   "execution_count": 12,
   "metadata": {},
   "outputs": [
    {
     "name": "stdout",
     "output_type": "stream",
     "text": [
      "CommandException: No URLs matched: gs://buddie_rec_data/buddieRec/data/rec-train-000000000000.csv\r\n"
     ]
    }
   ],
   "source": [
    "!gsutil cat gs://$BUCKET/buddieRec/data/rec-train-000000000000.csv | head -2"
   ]
  },
  {
   "cell_type": "code",
   "execution_count": null,
   "metadata": {},
   "outputs": [],
   "source": []
  }
 ],
 "metadata": {
  "kernelspec": {
   "display_name": "Python 3",
   "language": "python",
   "name": "python3"
  },
  "language_info": {
   "codemirror_mode": {
    "name": "ipython",
    "version": 3
   },
   "file_extension": ".py",
   "mimetype": "text/x-python",
   "name": "python",
   "nbconvert_exporter": "python",
   "pygments_lexer": "ipython3",
   "version": "3.6.12"
  }
 },
 "nbformat": 4,
 "nbformat_minor": 4
}
