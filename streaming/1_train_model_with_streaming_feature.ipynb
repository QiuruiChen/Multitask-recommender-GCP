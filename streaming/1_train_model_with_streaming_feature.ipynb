{
 "cells": [
  {
   "cell_type": "markdown",
   "metadata": {},
   "source": [
    "## Training a model with changedPages_last_5min feature\n",
    "\n",
    "### Introduction\n",
    "In this notebook, we'll train a taxifare prediction model but this time with an additional feature of changedPages_last_5min.\n",
    "\n",
    "**Since the feature \"changedPages_last_5min\" is faked, the built model is not accurate.**"
   ]
  },
  {
   "cell_type": "code",
   "execution_count": 2,
   "metadata": {},
   "outputs": [
    {
     "name": "stdout",
     "output_type": "stream",
     "text": [
      "Requirement already satisfied: google-cloud-bigquery==1.25.0 in /Users/rachelchen/.local/lib/python3.6/site-packages (1.25.0)\n",
      "Requirement already satisfied: google-resumable-media<0.6dev,>=0.5.0 in /Users/rachelchen/.local/lib/python3.6/site-packages (from google-cloud-bigquery==1.25.0) (0.5.1)\n",
      "Requirement already satisfied: google-auth<2.0dev,>=1.9.0 in /Applications/condaSoftware/anaconda3/envs/tf2_3/lib/python3.6/site-packages (from google-cloud-bigquery==1.25.0) (1.25.0)\n",
      "Requirement already satisfied: google-api-core<2.0dev,>=1.15.0 in /Applications/condaSoftware/anaconda3/envs/tf2_3/lib/python3.6/site-packages (from google-cloud-bigquery==1.25.0) (1.25.1)\n",
      "Requirement already satisfied: protobuf>=3.6.0 in /Applications/condaSoftware/anaconda3/envs/tf2_3/lib/python3.6/site-packages (from google-cloud-bigquery==1.25.0) (3.14.0)\n",
      "Requirement already satisfied: google-cloud-core<2.0dev,>=1.1.0 in /Applications/condaSoftware/anaconda3/envs/tf2_3/lib/python3.6/site-packages (from google-cloud-bigquery==1.25.0) (1.5.0)\n",
      "Requirement already satisfied: six<2.0.0dev,>=1.13.0 in /Applications/condaSoftware/anaconda3/envs/tf2_3/lib/python3.6/site-packages (from google-cloud-bigquery==1.25.0) (1.15.0)\n",
      "Requirement already satisfied: requests<3.0.0dev,>=2.18.0 in /Applications/condaSoftware/anaconda3/envs/tf2_3/lib/python3.6/site-packages (from google-api-core<2.0dev,>=1.15.0->google-cloud-bigquery==1.25.0) (2.25.1)\n",
      "Requirement already satisfied: googleapis-common-protos<2.0dev,>=1.6.0 in /Applications/condaSoftware/anaconda3/envs/tf2_3/lib/python3.6/site-packages (from google-api-core<2.0dev,>=1.15.0->google-cloud-bigquery==1.25.0) (1.52.0)\n",
      "Requirement already satisfied: setuptools>=40.3.0 in /Applications/condaSoftware/anaconda3/envs/tf2_3/lib/python3.6/site-packages (from google-api-core<2.0dev,>=1.15.0->google-cloud-bigquery==1.25.0) (53.0.0)\n",
      "Requirement already satisfied: pytz in /Applications/condaSoftware/anaconda3/envs/tf2_3/lib/python3.6/site-packages (from google-api-core<2.0dev,>=1.15.0->google-cloud-bigquery==1.25.0) (2021.1)\n",
      "Requirement already satisfied: cachetools<5.0,>=2.0.0 in /Users/rachelchen/.local/lib/python3.6/site-packages (from google-auth<2.0dev,>=1.9.0->google-cloud-bigquery==1.25.0) (3.1.1)\n",
      "Requirement already satisfied: rsa<5,>=3.1.4 in /Applications/condaSoftware/anaconda3/envs/tf2_3/lib/python3.6/site-packages (from google-auth<2.0dev,>=1.9.0->google-cloud-bigquery==1.25.0) (4.7)\n",
      "Requirement already satisfied: pyasn1-modules>=0.2.1 in /Applications/condaSoftware/anaconda3/envs/tf2_3/lib/python3.6/site-packages (from google-auth<2.0dev,>=1.9.0->google-cloud-bigquery==1.25.0) (0.2.8)\n",
      "Requirement already satisfied: pyasn1<0.5.0,>=0.4.6 in /Applications/condaSoftware/anaconda3/envs/tf2_3/lib/python3.6/site-packages (from pyasn1-modules>=0.2.1->google-auth<2.0dev,>=1.9.0->google-cloud-bigquery==1.25.0) (0.4.8)\n",
      "Requirement already satisfied: urllib3<1.27,>=1.21.1 in /Applications/condaSoftware/anaconda3/envs/tf2_3/lib/python3.6/site-packages (from requests<3.0.0dev,>=2.18.0->google-api-core<2.0dev,>=1.15.0->google-cloud-bigquery==1.25.0) (1.26.3)\n",
      "Requirement already satisfied: idna<3,>=2.5 in /Applications/condaSoftware/anaconda3/envs/tf2_3/lib/python3.6/site-packages (from requests<3.0.0dev,>=2.18.0->google-api-core<2.0dev,>=1.15.0->google-cloud-bigquery==1.25.0) (2.10)\n",
      "Requirement already satisfied: chardet<5,>=3.0.2 in /Applications/condaSoftware/anaconda3/envs/tf2_3/lib/python3.6/site-packages (from requests<3.0.0dev,>=2.18.0->google-api-core<2.0dev,>=1.15.0->google-cloud-bigquery==1.25.0) (4.0.0)\n",
      "Requirement already satisfied: certifi>=2017.4.17 in /Applications/condaSoftware/anaconda3/envs/tf2_3/lib/python3.6/site-packages (from requests<3.0.0dev,>=2.18.0->google-api-core<2.0dev,>=1.15.0->google-cloud-bigquery==1.25.0) (2020.12.5)\n"
     ]
    }
   ],
   "source": [
    "!pip install --user google-cloud-bigquery==1.25.0"
   ]
  },
  {
   "cell_type": "code",
   "execution_count": 3,
   "metadata": {},
   "outputs": [
    {
     "name": "stdout",
     "output_type": "stream",
     "text": [
      "2.3.1\n"
     ]
    }
   ],
   "source": [
    "import datetime\n",
    "import os\n",
    "import shutil\n",
    "\n",
    "import pandas as pd\n",
    "import tensorflow as tf\n",
    "\n",
    "from matplotlib import pyplot as plt\n",
    "from tensorflow import keras\n",
    "\n",
    "from tensorflow.keras.models import Sequential\n",
    "from tensorflow.keras.layers import Dense, DenseFeatures\n",
    "from tensorflow.keras.callbacks import TensorBoard\n",
    "\n",
    "print(tf.__version__)\n",
    "%matplotlib inline"
   ]
  },
  {
   "cell_type": "code",
   "execution_count": 4,
   "metadata": {},
   "outputs": [],
   "source": [
    "PROJECT = 'buddie-270710' # REPLACE WITH YOUR PROJECT ID\n",
    "BUCKET = 'buddie_rec_data' # REPLACE WITH YOUR BUCKET NAME\n",
    "REGION = 'europe-west4' # REPLACE WITH YOUR BUCKET REGION e.g. us-central1"
   ]
  },
  {
   "cell_type": "code",
   "execution_count": 5,
   "metadata": {},
   "outputs": [],
   "source": [
    "os.environ['PROJECT'] = PROJECT\n",
    "os.environ['BUCKET'] = BUCKET\n",
    "os.environ['REGION'] = REGION"
   ]
  },
  {
   "cell_type": "code",
   "execution_count": 6,
   "metadata": {},
   "outputs": [
    {
     "name": "stderr",
     "output_type": "stream",
     "text": [
      "Updated property [core/project].\n",
      "Updated property [compute/region].\n"
     ]
    }
   ],
   "source": [
    "%%bash\n",
    "gcloud config set project $PROJECT\n",
    "gcloud config set compute/region $REGION"
   ]
  },
  {
   "cell_type": "markdown",
   "metadata": {},
   "source": [
    "## Load raw data"
   ]
  },
  {
   "cell_type": "code",
   "execution_count": 7,
   "metadata": {},
   "outputs": [
    {
     "name": "stdout",
     "output_type": "stream",
     "text": [
      "-rw-r--r--  1 rachelchen  staff   5236 Feb  6 22:14 ./data/rec-clientIds.csv\r\n",
      "-rw-r--r--  1 rachelchen  staff   1993 Feb  6 22:14 ./data/rec-contentIds.csv\r\n",
      "-rw-r--r--  1 rachelchen  staff     73 Feb  6 22:14 ./data/rec-orgIds.csv\r\n",
      "-rw-r--r--  1 rachelchen  staff   4449 Feb  7 23:02 ./data/rec-test-000000000000.csv\r\n",
      "-rw-r--r--  1 rachelchen  staff  42337 Feb  7 23:02 ./data/rec-train-000000000000.csv\r\n",
      "-rw-r--r--  1 rachelchen  staff   5454 Feb  7 22:57 ./data/rec-valid-000000000000.csv\r\n"
     ]
    }
   ],
   "source": [
    "!ls -l ./data/rec-*"
   ]
  },
  {
   "cell_type": "code",
   "execution_count": 8,
   "metadata": {},
   "outputs": [
    {
     "name": "stdout",
     "output_type": "stream",
     "text": [
      "==> ./data/rec-clientIds.csv <==\r\n",
      "1608032019\r\n",
      "1608035318\r\n",
      "1608142561\r\n",
      "1607941840\r\n",
      "1608152467\r\n",
      "1608313756\r\n",
      "1608029665\r\n",
      "1608270834\r\n",
      "1609392225\r\n",
      "1608023406\r\n",
      "\r\n",
      "==> ./data/rec-contentIds.csv <==\r\n",
      "/content/mix/2998\r\n",
      "/content/mix/7661\r\n",
      "/content/mix/3000\r\n",
      "/content/video/2926\r\n",
      "/content/mix/2849\r\n",
      "/content/mix/2987\r\n",
      "/content/e-learning/4818\r\n",
      "/content/mix/7789\r\n",
      "/content/mix/2995\r\n",
      "/content/mix/7684\r\n",
      "\r\n",
      "==> ./data/rec-orgIds.csv <==\r\n",
      "educared-a\r\n",
      "leeromgeving\r\n",
      "buurtzorg-t\r\n",
      "educared-t\r\n",
      "skilly-educared\r\n",
      "buurtzorg\r\n",
      "\r\n",
      "==> ./data/rec-test-000000000000.csv <==\r\n",
      "1395906622,1,content/mix/1508,educared-t,1\r\n",
      "1395906622,1,content/mix/1508,educared-t,2\r\n",
      "1306932743,1,content/mix/2844,leeromgeving,2\r\n",
      "1306932743,1,content/mix/2844,leeromgeving,5\r\n",
      "228208309,1,content/mix/2846,leeromgeving,9\r\n",
      "228208309,1,content/mix/2846,leeromgeving,0\r\n",
      "228208309,1,content/mix/2846,leeromgeving,9\r\n",
      "325122874,2,content/mix/2846,leeromgeving,1\r\n",
      "325122874,2,content/mix/2846,leeromgeving,4\r\n",
      "1205691654,0,content/mix/2846,leeromgeving,3\r\n",
      "\r\n",
      "==> ./data/rec-train-000000000000.csv <==\r\n",
      "1928831584,1,content/mix/3195,leeromgeving,1\r\n",
      "1845914268,4,content/mix/4497,educared-t,0\r\n",
      "1845914268,4,content/mix/4497,educared-t,7\r\n",
      "773914411,1,content/mix/4814,educared-t,8\r\n",
      "773914411,1,content/mix/4814,educared-t,0\r\n",
      "1306932743,34,content/mix/5441,leeromgeving,4\r\n",
      "1306932743,34,content/mix/5441,leeromgeving,5\r\n",
      "1306932743,34,content/mix/5441,leeromgeving,2\r\n",
      "1215373125,1,content/mix/5478,leeromgeving,1\r\n",
      "1215373125,1,content/mix/5478,leeromgeving,0\r\n",
      "\r\n",
      "==> ./data/rec-valid-000000000000.csv <==\r\n",
      "1649124382,7,content/mix/1071,educared-t,5\r\n",
      "1649124382,7,content/mix/1071,educared-t,3\r\n",
      "1738935275,2,content/mix/2956,leeromgeving,1\r\n",
      "1738935275,2,content/mix/2956,leeromgeving,9\r\n",
      "258148782,3,content/mix/2965,leeromgeving,0\r\n",
      "258148782,3,content/mix/2965,leeromgeving,3\r\n",
      "258148782,3,content/mix/2965,leeromgeving,6\r\n",
      "1818434915,1,content/mix/2989,leeromgeving,4\r\n",
      "1818434915,1,content/mix/2989,leeromgeving,3\r\n",
      "1818434915,1,content/mix/2989,leeromgeving,8\r\n"
     ]
    }
   ],
   "source": [
    "!head ./data/rec-*"
   ]
  },
  {
   "cell_type": "markdown",
   "metadata": {},
   "source": [
    "## Use tf.data to read the CSV files\n",
    "These functions for reading data from the csv files are similar to what we used in the Introduction to Tensorflow module. Note that here we have an addtional feature traffic_last_5min."
   ]
  },
  {
   "cell_type": "code",
   "execution_count": 9,
   "metadata": {},
   "outputs": [
    {
     "name": "stdout",
     "output_type": "stream",
     "text": [
      "Requirement already satisfied: tensorflow_recommenders in /Applications/condaSoftware/anaconda3/envs/tf2_3/lib/python3.6/site-packages (0.2.0)\n",
      "Requirement already satisfied: absl-py>=0.1.6 in /Applications/condaSoftware/anaconda3/envs/tf2_3/lib/python3.6/site-packages (from tensorflow_recommenders) (0.8.1)\n",
      "Requirement already satisfied: six in /Applications/condaSoftware/anaconda3/envs/tf2_3/lib/python3.6/site-packages (from absl-py>=0.1.6->tensorflow_recommenders) (1.15.0)\n"
     ]
    }
   ],
   "source": [
    "!pip install tensorflow_recommenders"
   ]
  },
  {
   "cell_type": "code",
   "execution_count": 10,
   "metadata": {},
   "outputs": [
    {
     "name": "stdout",
     "output_type": "stream",
     "text": [
      "2.3.1\n"
     ]
    }
   ],
   "source": [
    "import shutil\n",
    "import numpy as np\n",
    "print(tf.__version__)\n",
    "\n",
    "import tensorflow_recommenders as tfrs"
   ]
  },
  {
   "cell_type": "code",
   "execution_count": 11,
   "metadata": {},
   "outputs": [],
   "source": [
    "# Determine CSV, label, and key columns\n",
    "CSV_COLUMNS = 'clientId,timeOnPage,contentId,organization,changedPages'.split(',')\n",
    "LABEL_COLUMN = 'timeOnPage'\n",
    "\n",
    "DEFAULTS = [['0.0'], [0.0], ['null'], ['null'],[0.0]]"
   ]
  },
  {
   "cell_type": "code",
   "execution_count": 12,
   "metadata": {},
   "outputs": [],
   "source": [
    "def features_and_labels(row_data):\n",
    "    label = row_data.pop(LABEL_COLUMN)\n",
    "    features = row_data #only remains clientId, contentId, organization in features\n",
    "    return features, label  # features, label"
   ]
  },
  {
   "cell_type": "code",
   "execution_count": 13,
   "metadata": {},
   "outputs": [],
   "source": [
    "from typing import Dict, Text\n",
    "\n",
    "def load_dataset(pattern, batch_size=1, mode='eval'):\n",
    "    \"\"\"Loads dataset using the tf.data API from CSV files.\n",
    "\n",
    "    Args:\n",
    "        pattern: str, file pattern to glob into list of files.\n",
    "        batch_size: int, the number of examples per batch.\n",
    "        mode: 'train' | 'eval' to determine if training or evaluating.\n",
    "    Returns:\n",
    "        `Dataset` object.\n",
    "    \"\"\"\n",
    "    print(\"mode = {}\".format(mode))\n",
    "    \n",
    "    dataset = tf.data.experimental.make_csv_dataset(\n",
    "        file_pattern=pattern,\n",
    "        batch_size=batch_size,\n",
    "        column_names=CSV_COLUMNS,\n",
    "        column_defaults=DEFAULTS,\n",
    "        header=False)\n",
    "\n",
    "    dataset = dataset.map(map_func=features_and_labels)  # features, label\n",
    "\n",
    "    if mode == 'train':\n",
    "        dataset = dataset.shuffle(buffer_size=10).repeat()\n",
    "    dataset = dataset.prefetch(buffer_size=1)\n",
    "\n",
    "    return dataset"
   ]
  },
  {
   "cell_type": "code",
   "execution_count": 14,
   "metadata": {},
   "outputs": [
    {
     "name": "stdout",
     "output_type": "stream",
     "text": [
      "mode = train\n",
      "mode = eval\n"
     ]
    }
   ],
   "source": [
    "from datetime import datetime\n",
    "\n",
    "TRAIN_BATCH_SIZE = 32\n",
    "NUM_TRAIN_EXAMPLES = 1000 * 5 # training dataset repeats, so it will wrap around\n",
    "NUM_EVALS = 5  # how many times to evaluate\n",
    "NUM_EVAL_EXAMPLES = 1000 # enough to get a reasonable sample, but not so much that it slows down\n",
    "\n",
    "trainds = load_dataset('./data/rec-train*', TRAIN_BATCH_SIZE, tf.estimator.ModeKeys.TRAIN)\n",
    "evalds = load_dataset('./data/rec-val*', 1000, tf.estimator.ModeKeys.EVAL).take(NUM_EVAL_EXAMPLES//1000)"
   ]
  },
  {
   "cell_type": "markdown",
   "metadata": {},
   "source": [
    "## build simple model "
   ]
  },
  {
   "cell_type": "code",
   "execution_count": 138,
   "metadata": {},
   "outputs": [],
   "source": [
    "\"\"\"## UserModel & ArticleModel\"\"\"\n",
    "class UserModel(tf.keras.Model):\n",
    "    def __init__(self,uniq_clients, uniq_org):\n",
    "        super().__init__()\n",
    "        self.user_embedding = tf.keras.Sequential([\n",
    "            tf.keras.layers.experimental.preprocessing.StringLookup(vocabulary=uniq_clients, mask_token=None),\n",
    "            tf.keras.layers.Embedding(len(uniq_clients) + 1, 32),\n",
    "        ])\n",
    "        self.org_embedding = tf.keras.Sequential([\n",
    "            tf.keras.layers.experimental.preprocessing.StringLookup(vocabulary=uniq_org, mask_token=None),\n",
    "            tf.keras.layers.Embedding(len(uniq_org) + 1, 32),\n",
    "        ])\n",
    "        self.normalized_changedPages = tf.keras.layers.experimental.preprocessing.Normalization()\n",
    "   \n",
    "    def call(self, features):\n",
    "        return tf.concat([\n",
    "            self.user_embedding(features[\"clientId\"]),\n",
    "            self.org_embedding(features[\"organization\"]),\n",
    "            self.normalized_changedPages(features[\"changedPages\"])\n",
    "        ], axis=1)\n",
    "    \n",
    "    \n",
    "class ArticleModel(tf.keras.Model):\n",
    "    def __init__(self,uniq_content):\n",
    "        super().__init__()\n",
    "        max_tokens = 10_000\n",
    "        self.title_embedding = tf.keras.Sequential([\n",
    "          tf.keras.layers.experimental.preprocessing.StringLookup(\n",
    "              vocabulary=uniq_content, mask_token=None),\n",
    "          tf.keras.layers.Embedding(len(uniq_content) + 1, 32)\n",
    "        ])\n",
    "        self.title_vectorizer = tf.keras.layers.experimental.preprocessing.TextVectorization(\n",
    "            max_tokens=max_tokens)\n",
    "        self.title_text_embedding = tf.keras.Sequential([\n",
    "          self.title_vectorizer,\n",
    "          tf.keras.layers.Embedding(max_tokens, 32, mask_zero=True),\n",
    "          tf.keras.layers.GlobalAveragePooling1D(),\n",
    "        ])\n",
    "        self.title_vectorizer.adapt(tf.data.Dataset.from_tensor_slices(uniq_content))\n",
    "\n",
    "    def call(self, contentIds):\n",
    "        return tf.concat([\n",
    "            self.title_embedding(contentIds),\n",
    "            self.title_text_embedding(contentIds)\n",
    "        ], axis=1)\n",
    "\n",
    "\n",
    "class ArticlelensModel(tfrs.models.Model):\n",
    "    def __init__(self, uniq_content, uniq_clients, uniq_org) -> None:\n",
    "\n",
    "        super().__init__()    \n",
    "        self.query_model = tf.keras.Sequential([\n",
    "          UserModel(uniq_clients, uniq_org),\n",
    "          tf.keras.layers.Dense(32)\n",
    "        ])\n",
    "        self.candidate_model = tf.keras.Sequential([\n",
    "          ArticleModel(uniq_content),\n",
    "          tf.keras.layers.Dense(32)\n",
    "        ])\n",
    "        articles = tf.data.Dataset.from_tensor_slices(uniq_content)\n",
    "        self.task = tfrs.tasks.Retrieval(\n",
    "            metrics=tfrs.metrics.FactorizedTopK(\n",
    "                candidates=articles.batch(128).map(self.candidate_model),\n",
    "            ),\n",
    "        )\n",
    "\n",
    "    def compute_loss(self, data, training=False):\n",
    "        features = data[0]\n",
    "        user_embeddings = self.query_model({\n",
    "            \"clientId\": features[\"clientId\"],\n",
    "            \"organization\": features[\"organization\"],\n",
    "            \"changedPages\": features[\"changedPages\"]\n",
    "        })\n",
    "        article_embeddings = self.candidate_model(features[\"contentId\"])\n",
    "\n",
    "        return self.task(user_embeddings, article_embeddings)\n"
   ]
  },
  {
   "cell_type": "code",
   "execution_count": 139,
   "metadata": {},
   "outputs": [],
   "source": [
    "UNIQ_CLIENTS = [str(x) for x in pd.read_csv('./data/rec-clientIds.csv', header=None)[0].values]\n",
    "UNIQ_CONTENT = pd.read_csv('./data/rec-contentIds.csv', header=None)[0].values\n",
    "articles = tf.data.Dataset.from_tensor_slices(UNIQ_CONTENT)\n",
    "UNIQ_ORG = pd.read_csv('./data/rec-orgIds.csv', header=None)[0].values"
   ]
  },
  {
   "cell_type": "code",
   "execution_count": 140,
   "metadata": {},
   "outputs": [],
   "source": [
    "model = ArticlelensModel(uniq_content = UNIQ_CONTENT,\n",
    "                         uniq_clients = UNIQ_CLIENTS,\n",
    "                         uniq_org = UNIQ_ORG)\n",
    "model.compile(optimizer=tf.keras.optimizers.Adagrad(0.1))"
   ]
  },
  {
   "cell_type": "code",
   "execution_count": 141,
   "metadata": {},
   "outputs": [],
   "source": [
    "# keras_model.summary()"
   ]
  },
  {
   "cell_type": "code",
   "execution_count": 142,
   "metadata": {},
   "outputs": [
    {
     "name": "stdout",
     "output_type": "stream",
     "text": [
      "Epoch 1/20\n",
      "WARNING:tensorflow:Layers in a Sequential model should only have a single input tensor, but we receive a <class 'dict'> input: {'clientId': <tf.Tensor 'IteratorGetNext:1' shape=(32,) dtype=string>, 'organization': <tf.Tensor 'IteratorGetNext:3' shape=(32,) dtype=string>, 'changedPages': <tf.Tensor 'IteratorGetNext:0' shape=(32,) dtype=float32>}\n",
      "Consider rewriting this model with the Functional API.\n",
      "WARNING:tensorflow:The dtype of the source tensor must be floating (e.g. tf.float32) when calling GradientTape.gradient, got tf.int32\n",
      "WARNING:tensorflow:Gradients do not exist for variables ['counter:0'] when minimizing the loss.\n",
      "WARNING:tensorflow:Layers in a Sequential model should only have a single input tensor, but we receive a <class 'dict'> input: {'clientId': <tf.Tensor 'IteratorGetNext:1' shape=(32,) dtype=string>, 'organization': <tf.Tensor 'IteratorGetNext:3' shape=(32,) dtype=string>, 'changedPages': <tf.Tensor 'IteratorGetNext:0' shape=(32,) dtype=float32>}\n",
      "Consider rewriting this model with the Functional API.\n",
      "WARNING:tensorflow:The dtype of the source tensor must be floating (e.g. tf.float32) when calling GradientTape.gradient, got tf.int32\n",
      "WARNING:tensorflow:Gradients do not exist for variables ['counter:0'] when minimizing the loss.\n",
      " 1/31 [..............................] - ETA: 0s - factorized_top_k/top_1_categorical_accuracy: 0.0000e+00 - factorized_top_k/top_5_categorical_accuracy: 0.0000e+00 - factorized_top_k/top_10_categorical_accuracy: 0.0000e+00 - factorized_top_k/top_50_categorical_accuracy: 0.2188 - factorized_top_k/top_100_categorical_accuracy: 1.0000 - loss: 111.1894 - regularization_loss: 0.0000e+00 - total_loss: 111.1894WARNING:tensorflow:From /Applications/condaSoftware/anaconda3/envs/tf2_3/lib/python3.6/site-packages/tensorflow/python/ops/summary_ops_v2.py:1277: stop (from tensorflow.python.eager.profiler) is deprecated and will be removed after 2020-07-01.\n",
      "Instructions for updating:\n",
      "use `tf.profiler.experimental.stop` instead.\n",
      "31/31 [==============================] - ETA: 0s - factorized_top_k/top_1_categorical_accuracy: 0.0171 - factorized_top_k/top_5_categorical_accuracy: 0.1038 - factorized_top_k/top_10_categorical_accuracy: 0.2258 - factorized_top_k/top_50_categorical_accuracy: 0.7520 - factorized_top_k/top_100_categorical_accuracy: 0.9536 - loss: 110.5895 - regularization_loss: 0.0000e+00 - total_loss: 110.5895WARNING:tensorflow:Layers in a Sequential model should only have a single input tensor, but we receive a <class 'dict'> input: {'clientId': <tf.Tensor 'IteratorGetNext:1' shape=(1000,) dtype=string>, 'organization': <tf.Tensor 'IteratorGetNext:3' shape=(1000,) dtype=string>, 'changedPages': <tf.Tensor 'IteratorGetNext:0' shape=(1000,) dtype=float32>}\n",
      "Consider rewriting this model with the Functional API.\n",
      "31/31 [==============================] - 2s 69ms/step - factorized_top_k/top_1_categorical_accuracy: 0.0171 - factorized_top_k/top_5_categorical_accuracy: 0.1038 - factorized_top_k/top_10_categorical_accuracy: 0.2258 - factorized_top_k/top_50_categorical_accuracy: 0.7520 - factorized_top_k/top_100_categorical_accuracy: 0.9536 - loss: 110.3521 - regularization_loss: 0.0000e+00 - total_loss: 110.3521 - val_factorized_top_k/top_1_categorical_accuracy: 0.0000e+00 - val_factorized_top_k/top_5_categorical_accuracy: 0.0320 - val_factorized_top_k/top_10_categorical_accuracy: 0.1220 - val_factorized_top_k/top_50_categorical_accuracy: 0.9170 - val_factorized_top_k/top_100_categorical_accuracy: 1.0000 - val_loss: 6761.6465 - val_regularization_loss: 0.0000e+00 - val_total_loss: 6761.6465\n",
      "Epoch 2/20\n",
      "31/31 [==============================] - 2s 55ms/step - factorized_top_k/top_1_categorical_accuracy: 0.0071 - factorized_top_k/top_5_categorical_accuracy: 0.0554 - factorized_top_k/top_10_categorical_accuracy: 0.1169 - factorized_top_k/top_50_categorical_accuracy: 0.9788 - factorized_top_k/top_100_categorical_accuracy: 1.0000 - loss: 105.8550 - regularization_loss: 0.0000e+00 - total_loss: 105.8550 - val_factorized_top_k/top_1_categorical_accuracy: 0.0160 - val_factorized_top_k/top_5_categorical_accuracy: 0.0320 - val_factorized_top_k/top_10_categorical_accuracy: 0.1730 - val_factorized_top_k/top_50_categorical_accuracy: 0.8920 - val_factorized_top_k/top_100_categorical_accuracy: 1.0000 - val_loss: 6747.5601 - val_regularization_loss: 0.0000e+00 - val_total_loss: 6747.5601\n",
      "Epoch 3/20\n",
      "31/31 [==============================] - 2s 56ms/step - factorized_top_k/top_1_categorical_accuracy: 0.0060 - factorized_top_k/top_5_categorical_accuracy: 0.0585 - factorized_top_k/top_10_categorical_accuracy: 0.1633 - factorized_top_k/top_50_categorical_accuracy: 0.9970 - factorized_top_k/top_100_categorical_accuracy: 1.0000 - loss: 104.2062 - regularization_loss: 0.0000e+00 - total_loss: 104.2062 - val_factorized_top_k/top_1_categorical_accuracy: 0.0250 - val_factorized_top_k/top_5_categorical_accuracy: 0.0490 - val_factorized_top_k/top_10_categorical_accuracy: 0.1220 - val_factorized_top_k/top_50_categorical_accuracy: 0.9020 - val_factorized_top_k/top_100_categorical_accuracy: 1.0000 - val_loss: 6734.2158 - val_regularization_loss: 0.0000e+00 - val_total_loss: 6734.2158\n",
      "Epoch 4/20\n",
      "31/31 [==============================] - 2s 56ms/step - factorized_top_k/top_1_categorical_accuracy: 0.0141 - factorized_top_k/top_5_categorical_accuracy: 0.0685 - factorized_top_k/top_10_categorical_accuracy: 0.1381 - factorized_top_k/top_50_categorical_accuracy: 0.9980 - factorized_top_k/top_100_categorical_accuracy: 1.0000 - loss: 103.9852 - regularization_loss: 0.0000e+00 - total_loss: 103.9852 - val_factorized_top_k/top_1_categorical_accuracy: 0.0240 - val_factorized_top_k/top_5_categorical_accuracy: 0.0410 - val_factorized_top_k/top_10_categorical_accuracy: 0.1330 - val_factorized_top_k/top_50_categorical_accuracy: 0.8930 - val_factorized_top_k/top_100_categorical_accuracy: 1.0000 - val_loss: 6788.9004 - val_regularization_loss: 0.0000e+00 - val_total_loss: 6788.9004\n",
      "Epoch 5/20\n",
      "31/31 [==============================] - 2s 56ms/step - factorized_top_k/top_1_categorical_accuracy: 0.0101 - factorized_top_k/top_5_categorical_accuracy: 0.0796 - factorized_top_k/top_10_categorical_accuracy: 0.1562 - factorized_top_k/top_50_categorical_accuracy: 0.9990 - factorized_top_k/top_100_categorical_accuracy: 1.0000 - loss: 104.0199 - regularization_loss: 0.0000e+00 - total_loss: 104.0199 - val_factorized_top_k/top_1_categorical_accuracy: 0.0000e+00 - val_factorized_top_k/top_5_categorical_accuracy: 0.0490 - val_factorized_top_k/top_10_categorical_accuracy: 0.0490 - val_factorized_top_k/top_50_categorical_accuracy: 0.8940 - val_factorized_top_k/top_100_categorical_accuracy: 1.0000 - val_loss: 6755.1738 - val_regularization_loss: 0.0000e+00 - val_total_loss: 6755.1738\n",
      "Epoch 6/20\n",
      "31/31 [==============================] - 2s 57ms/step - factorized_top_k/top_1_categorical_accuracy: 0.0101 - factorized_top_k/top_5_categorical_accuracy: 0.0544 - factorized_top_k/top_10_categorical_accuracy: 0.1028 - factorized_top_k/top_50_categorical_accuracy: 0.9990 - factorized_top_k/top_100_categorical_accuracy: 1.0000 - loss: 103.5043 - regularization_loss: 0.0000e+00 - total_loss: 103.5043 - val_factorized_top_k/top_1_categorical_accuracy: 0.0250 - val_factorized_top_k/top_5_categorical_accuracy: 0.0500 - val_factorized_top_k/top_10_categorical_accuracy: 0.0500 - val_factorized_top_k/top_50_categorical_accuracy: 0.8960 - val_factorized_top_k/top_100_categorical_accuracy: 1.0000 - val_loss: 6780.3926 - val_regularization_loss: 0.0000e+00 - val_total_loss: 6780.3926\n",
      "Epoch 7/20\n",
      "31/31 [==============================] - 2s 57ms/step - factorized_top_k/top_1_categorical_accuracy: 0.0141 - factorized_top_k/top_5_categorical_accuracy: 0.0615 - factorized_top_k/top_10_categorical_accuracy: 0.1371 - factorized_top_k/top_50_categorical_accuracy: 1.0000 - factorized_top_k/top_100_categorical_accuracy: 1.0000 - loss: 103.5735 - regularization_loss: 0.0000e+00 - total_loss: 103.5735 - val_factorized_top_k/top_1_categorical_accuracy: 0.0000e+00 - val_factorized_top_k/top_5_categorical_accuracy: 0.0500 - val_factorized_top_k/top_10_categorical_accuracy: 0.1540 - val_factorized_top_k/top_50_categorical_accuracy: 0.8960 - val_factorized_top_k/top_100_categorical_accuracy: 1.0000 - val_loss: 6748.9453 - val_regularization_loss: 0.0000e+00 - val_total_loss: 6748.9453\n"
     ]
    },
    {
     "name": "stdout",
     "output_type": "stream",
     "text": [
      "Epoch 8/20\n",
      "31/31 [==============================] - 2s 57ms/step - factorized_top_k/top_1_categorical_accuracy: 0.0040 - factorized_top_k/top_5_categorical_accuracy: 0.0645 - factorized_top_k/top_10_categorical_accuracy: 0.1562 - factorized_top_k/top_50_categorical_accuracy: 0.9980 - factorized_top_k/top_100_categorical_accuracy: 1.0000 - loss: 104.2318 - regularization_loss: 0.0000e+00 - total_loss: 104.2318 - val_factorized_top_k/top_1_categorical_accuracy: 0.0000e+00 - val_factorized_top_k/top_5_categorical_accuracy: 0.0420 - val_factorized_top_k/top_10_categorical_accuracy: 0.2220 - val_factorized_top_k/top_50_categorical_accuracy: 0.8940 - val_factorized_top_k/top_100_categorical_accuracy: 1.0000 - val_loss: 6783.5093 - val_regularization_loss: 0.0000e+00 - val_total_loss: 6783.5093\n",
      "Epoch 9/20\n",
      "31/31 [==============================] - 2s 58ms/step - factorized_top_k/top_1_categorical_accuracy: 0.0121 - factorized_top_k/top_5_categorical_accuracy: 0.0776 - factorized_top_k/top_10_categorical_accuracy: 0.1452 - factorized_top_k/top_50_categorical_accuracy: 1.0000 - factorized_top_k/top_100_categorical_accuracy: 1.0000 - loss: 103.8459 - regularization_loss: 0.0000e+00 - total_loss: 103.8459 - val_factorized_top_k/top_1_categorical_accuracy: 0.0080 - val_factorized_top_k/top_5_categorical_accuracy: 0.0500 - val_factorized_top_k/top_10_categorical_accuracy: 0.0500 - val_factorized_top_k/top_50_categorical_accuracy: 0.8920 - val_factorized_top_k/top_100_categorical_accuracy: 1.0000 - val_loss: 6783.5430 - val_regularization_loss: 0.0000e+00 - val_total_loss: 6783.5430\n",
      "Epoch 10/20\n",
      "31/31 [==============================] - 2s 56ms/step - factorized_top_k/top_1_categorical_accuracy: 0.0171 - factorized_top_k/top_5_categorical_accuracy: 0.0827 - factorized_top_k/top_10_categorical_accuracy: 0.2016 - factorized_top_k/top_50_categorical_accuracy: 1.0000 - factorized_top_k/top_100_categorical_accuracy: 1.0000 - loss: 102.6016 - regularization_loss: 0.0000e+00 - total_loss: 102.6016 - val_factorized_top_k/top_1_categorical_accuracy: 0.0160 - val_factorized_top_k/top_5_categorical_accuracy: 0.0490 - val_factorized_top_k/top_10_categorical_accuracy: 0.0970 - val_factorized_top_k/top_50_categorical_accuracy: 0.8920 - val_factorized_top_k/top_100_categorical_accuracy: 1.0000 - val_loss: 6763.9570 - val_regularization_loss: 0.0000e+00 - val_total_loss: 6763.9570\n",
      "Epoch 11/20\n",
      "31/31 [==============================] - 2s 57ms/step - factorized_top_k/top_1_categorical_accuracy: 0.0111 - factorized_top_k/top_5_categorical_accuracy: 0.0716 - factorized_top_k/top_10_categorical_accuracy: 0.1794 - factorized_top_k/top_50_categorical_accuracy: 1.0000 - factorized_top_k/top_100_categorical_accuracy: 1.0000 - loss: 103.3008 - regularization_loss: 0.0000e+00 - total_loss: 103.3008 - val_factorized_top_k/top_1_categorical_accuracy: 0.0080 - val_factorized_top_k/top_5_categorical_accuracy: 0.0590 - val_factorized_top_k/top_10_categorical_accuracy: 0.1490 - val_factorized_top_k/top_50_categorical_accuracy: 0.9000 - val_factorized_top_k/top_100_categorical_accuracy: 1.0000 - val_loss: 6810.5781 - val_regularization_loss: 0.0000e+00 - val_total_loss: 6810.5781\n",
      "Epoch 12/20\n",
      "31/31 [==============================] - 2s 57ms/step - factorized_top_k/top_1_categorical_accuracy: 0.0121 - factorized_top_k/top_5_categorical_accuracy: 0.0756 - factorized_top_k/top_10_categorical_accuracy: 0.1845 - factorized_top_k/top_50_categorical_accuracy: 1.0000 - factorized_top_k/top_100_categorical_accuracy: 1.0000 - loss: 102.5905 - regularization_loss: 0.0000e+00 - total_loss: 102.5905 - val_factorized_top_k/top_1_categorical_accuracy: 0.0000e+00 - val_factorized_top_k/top_5_categorical_accuracy: 0.0590 - val_factorized_top_k/top_10_categorical_accuracy: 0.0760 - val_factorized_top_k/top_50_categorical_accuracy: 0.9100 - val_factorized_top_k/top_100_categorical_accuracy: 1.0000 - val_loss: 6786.4331 - val_regularization_loss: 0.0000e+00 - val_total_loss: 6786.4331\n",
      "Epoch 13/20\n",
      "31/31 [==============================] - 2s 57ms/step - factorized_top_k/top_1_categorical_accuracy: 0.0060 - factorized_top_k/top_5_categorical_accuracy: 0.0675 - factorized_top_k/top_10_categorical_accuracy: 0.1865 - factorized_top_k/top_50_categorical_accuracy: 1.0000 - factorized_top_k/top_100_categorical_accuracy: 1.0000 - loss: 103.8712 - regularization_loss: 0.0000e+00 - total_loss: 103.8712 - val_factorized_top_k/top_1_categorical_accuracy: 0.0000e+00 - val_factorized_top_k/top_5_categorical_accuracy: 0.0490 - val_factorized_top_k/top_10_categorical_accuracy: 0.0490 - val_factorized_top_k/top_50_categorical_accuracy: 0.9000 - val_factorized_top_k/top_100_categorical_accuracy: 1.0000 - val_loss: 6795.3813 - val_regularization_loss: 0.0000e+00 - val_total_loss: 6795.3813\n",
      "Epoch 14/20\n",
      "31/31 [==============================] - 2s 58ms/step - factorized_top_k/top_1_categorical_accuracy: 0.0141 - factorized_top_k/top_5_categorical_accuracy: 0.0685 - factorized_top_k/top_10_categorical_accuracy: 0.1552 - factorized_top_k/top_50_categorical_accuracy: 1.0000 - factorized_top_k/top_100_categorical_accuracy: 1.0000 - loss: 103.3954 - regularization_loss: 0.0000e+00 - total_loss: 103.3954 - val_factorized_top_k/top_1_categorical_accuracy: 0.0080 - val_factorized_top_k/top_5_categorical_accuracy: 0.0590 - val_factorized_top_k/top_10_categorical_accuracy: 0.1240 - val_factorized_top_k/top_50_categorical_accuracy: 0.8930 - val_factorized_top_k/top_100_categorical_accuracy: 1.0000 - val_loss: 6803.8174 - val_regularization_loss: 0.0000e+00 - val_total_loss: 6803.8174\n",
      "Epoch 15/20\n",
      "31/31 [==============================] - 2s 57ms/step - factorized_top_k/top_1_categorical_accuracy: 0.0081 - factorized_top_k/top_5_categorical_accuracy: 0.0817 - factorized_top_k/top_10_categorical_accuracy: 0.2016 - factorized_top_k/top_50_categorical_accuracy: 1.0000 - factorized_top_k/top_100_categorical_accuracy: 1.0000 - loss: 102.5771 - regularization_loss: 0.0000e+00 - total_loss: 102.5771 - val_factorized_top_k/top_1_categorical_accuracy: 0.0000e+00 - val_factorized_top_k/top_5_categorical_accuracy: 0.0400 - val_factorized_top_k/top_10_categorical_accuracy: 0.1440 - val_factorized_top_k/top_50_categorical_accuracy: 0.9030 - val_factorized_top_k/top_100_categorical_accuracy: 1.0000 - val_loss: 6834.4521 - val_regularization_loss: 0.0000e+00 - val_total_loss: 6834.4521\n",
      "Epoch 16/20\n",
      "31/31 [==============================] - 2s 57ms/step - factorized_top_k/top_1_categorical_accuracy: 0.0131 - factorized_top_k/top_5_categorical_accuracy: 0.0796 - factorized_top_k/top_10_categorical_accuracy: 0.2077 - factorized_top_k/top_50_categorical_accuracy: 1.0000 - factorized_top_k/top_100_categorical_accuracy: 1.0000 - loss: 103.3116 - regularization_loss: 0.0000e+00 - total_loss: 103.3116 - val_factorized_top_k/top_1_categorical_accuracy: 0.0000e+00 - val_factorized_top_k/top_5_categorical_accuracy: 0.0480 - val_factorized_top_k/top_10_categorical_accuracy: 0.0640 - val_factorized_top_k/top_50_categorical_accuracy: 0.9030 - val_factorized_top_k/top_100_categorical_accuracy: 1.0000 - val_loss: 6838.1201 - val_regularization_loss: 0.0000e+00 - val_total_loss: 6838.1201\n",
      "Epoch 17/20\n",
      "31/31 [==============================] - 2s 58ms/step - factorized_top_k/top_1_categorical_accuracy: 0.0091 - factorized_top_k/top_5_categorical_accuracy: 0.0776 - factorized_top_k/top_10_categorical_accuracy: 0.1946 - factorized_top_k/top_50_categorical_accuracy: 1.0000 - factorized_top_k/top_100_categorical_accuracy: 1.0000 - loss: 104.2356 - regularization_loss: 0.0000e+00 - total_loss: 104.2356 - val_factorized_top_k/top_1_categorical_accuracy: 0.0240 - val_factorized_top_k/top_5_categorical_accuracy: 0.1220 - val_factorized_top_k/top_10_categorical_accuracy: 0.1470 - val_factorized_top_k/top_50_categorical_accuracy: 0.8920 - val_factorized_top_k/top_100_categorical_accuracy: 1.0000 - val_loss: 6866.1235 - val_regularization_loss: 0.0000e+00 - val_total_loss: 6866.1235\n",
      "Epoch 18/20\n"
     ]
    },
    {
     "name": "stdout",
     "output_type": "stream",
     "text": [
      "31/31 [==============================] - 2s 57ms/step - factorized_top_k/top_1_categorical_accuracy: 0.0111 - factorized_top_k/top_5_categorical_accuracy: 0.1149 - factorized_top_k/top_10_categorical_accuracy: 0.2571 - factorized_top_k/top_50_categorical_accuracy: 1.0000 - factorized_top_k/top_100_categorical_accuracy: 1.0000 - loss: 101.4854 - regularization_loss: 0.0000e+00 - total_loss: 101.4854 - val_factorized_top_k/top_1_categorical_accuracy: 0.0000e+00 - val_factorized_top_k/top_5_categorical_accuracy: 0.0560 - val_factorized_top_k/top_10_categorical_accuracy: 0.0560 - val_factorized_top_k/top_50_categorical_accuracy: 0.9020 - val_factorized_top_k/top_100_categorical_accuracy: 1.0000 - val_loss: 6873.3887 - val_regularization_loss: 0.0000e+00 - val_total_loss: 6873.3887\n",
      "Epoch 19/20\n",
      "31/31 [==============================] - 2s 56ms/step - factorized_top_k/top_1_categorical_accuracy: 0.0101 - factorized_top_k/top_5_categorical_accuracy: 0.0796 - factorized_top_k/top_10_categorical_accuracy: 0.2500 - factorized_top_k/top_50_categorical_accuracy: 1.0000 - factorized_top_k/top_100_categorical_accuracy: 1.0000 - loss: 103.0600 - regularization_loss: 0.0000e+00 - total_loss: 103.0600 - val_factorized_top_k/top_1_categorical_accuracy: 0.0240 - val_factorized_top_k/top_5_categorical_accuracy: 0.0570 - val_factorized_top_k/top_10_categorical_accuracy: 0.0820 - val_factorized_top_k/top_50_categorical_accuracy: 0.9010 - val_factorized_top_k/top_100_categorical_accuracy: 1.0000 - val_loss: 6856.4590 - val_regularization_loss: 0.0000e+00 - val_total_loss: 6856.4590\n",
      "Epoch 20/20\n",
      "31/31 [==============================] - 2s 57ms/step - factorized_top_k/top_1_categorical_accuracy: 0.0131 - factorized_top_k/top_5_categorical_accuracy: 0.0938 - factorized_top_k/top_10_categorical_accuracy: 0.2419 - factorized_top_k/top_50_categorical_accuracy: 0.9990 - factorized_top_k/top_100_categorical_accuracy: 1.0000 - loss: 104.9520 - regularization_loss: 0.0000e+00 - total_loss: 104.9520 - val_factorized_top_k/top_1_categorical_accuracy: 0.0080 - val_factorized_top_k/top_5_categorical_accuracy: 0.0500 - val_factorized_top_k/top_10_categorical_accuracy: 0.0660 - val_factorized_top_k/top_50_categorical_accuracy: 0.9020 - val_factorized_top_k/top_100_categorical_accuracy: 1.0000 - val_loss: 6840.9888 - val_regularization_loss: 0.0000e+00 - val_total_loss: 6840.9888\n"
     ]
    }
   ],
   "source": [
    "LOGDIR = \"./taxi_trained\"\n",
    "\n",
    "history = model.fit(trainds, validation_data=evalds, validation_steps=1,\n",
    "                    epochs=20,\n",
    "                    steps_per_epoch=NUM_TRAIN_EXAMPLES // (TRAIN_BATCH_SIZE * NUM_EVALS),\n",
    "                    callbacks=[tf.keras.callbacks.TensorBoard(LOGDIR)])"
   ]
  },
  {
   "cell_type": "code",
   "execution_count": 146,
   "metadata": {},
   "outputs": [
    {
     "data": {
      "text/plain": [
       "{'factorized_top_k/top_1_categorical_accuracy': [0.01713709719479084,\n",
       "  0.00705645140260458,\n",
       "  0.006048386916518211,\n",
       "  0.01411290280520916,\n",
       "  0.010080644860863686,\n",
       "  0.010080644860863686,\n",
       "  0.01411290280520916,\n",
       "  0.004032257944345474,\n",
       "  0.012096773833036423,\n",
       "  0.01713709719479084,\n",
       "  0.011088709346950054,\n",
       "  0.012096773833036423,\n",
       "  0.006048386916518211,\n",
       "  0.01411290280520916,\n",
       "  0.008064515888690948,\n",
       "  0.013104838319122791,\n",
       "  0.009072580374777317,\n",
       "  0.011088709346950054,\n",
       "  0.010080644860863686,\n",
       "  0.013104838319122791],\n",
       " 'factorized_top_k/top_5_categorical_accuracy': [0.10383064299821854,\n",
       "  0.055443547666072845,\n",
       "  0.058467742055654526,\n",
       "  0.06854838877916336,\n",
       "  0.07963709533214569,\n",
       "  0.05443548411130905,\n",
       "  0.061491936445236206,\n",
       "  0.06451612710952759,\n",
       "  0.0776209682226181,\n",
       "  0.08266129344701767,\n",
       "  0.07157257944345474,\n",
       "  0.07560484111309052,\n",
       "  0.06754032522439957,\n",
       "  0.06854838877916336,\n",
       "  0.08165322244167328,\n",
       "  0.07963709533214569,\n",
       "  0.0776209682226181,\n",
       "  0.11491935700178146,\n",
       "  0.07963709533214569,\n",
       "  0.09375],\n",
       " 'factorized_top_k/top_10_categorical_accuracy': [0.22580644488334656,\n",
       "  0.11693548411130905,\n",
       "  0.16330644488334656,\n",
       "  0.13810484111309052,\n",
       "  0.15625,\n",
       "  0.10282257944345474,\n",
       "  0.13709677755832672,\n",
       "  0.15625,\n",
       "  0.14516128599643707,\n",
       "  0.2016129046678543,\n",
       "  0.17943547666072845,\n",
       "  0.18447580933570862,\n",
       "  0.1864919364452362,\n",
       "  0.1552419364452362,\n",
       "  0.2016129046678543,\n",
       "  0.20766128599643707,\n",
       "  0.19455644488334656,\n",
       "  0.25705644488334656,\n",
       "  0.25,\n",
       "  0.24193547666072845],\n",
       " 'factorized_top_k/top_50_categorical_accuracy': [0.7520161271095276,\n",
       "  0.9788306355476379,\n",
       "  0.9969757795333862,\n",
       "  0.9979838728904724,\n",
       "  0.9989919066429138,\n",
       "  0.9989919066429138,\n",
       "  1.0,\n",
       "  0.9979838728904724,\n",
       "  1.0,\n",
       "  1.0,\n",
       "  1.0,\n",
       "  1.0,\n",
       "  1.0,\n",
       "  1.0,\n",
       "  1.0,\n",
       "  1.0,\n",
       "  1.0,\n",
       "  1.0,\n",
       "  1.0,\n",
       "  0.9989919066429138],\n",
       " 'factorized_top_k/top_100_categorical_accuracy': [0.9536290168762207,\n",
       "  1.0,\n",
       "  1.0,\n",
       "  1.0,\n",
       "  1.0,\n",
       "  1.0,\n",
       "  1.0,\n",
       "  1.0,\n",
       "  1.0,\n",
       "  1.0,\n",
       "  1.0,\n",
       "  1.0,\n",
       "  1.0,\n",
       "  1.0,\n",
       "  1.0,\n",
       "  1.0,\n",
       "  1.0,\n",
       "  1.0,\n",
       "  1.0,\n",
       "  1.0],\n",
       " 'loss': [102.99066162109375,\n",
       "  105.90265655517578,\n",
       "  102.62458801269531,\n",
       "  102.48591613769531,\n",
       "  102.52145385742188,\n",
       "  106.30781555175781,\n",
       "  106.15431213378906,\n",
       "  107.581787109375,\n",
       "  109.55614471435547,\n",
       "  102.84391784667969,\n",
       "  110.9862060546875,\n",
       "  98.47936248779297,\n",
       "  103.56147766113281,\n",
       "  100.43746185302734,\n",
       "  102.62266540527344,\n",
       "  104.75144958496094,\n",
       "  110.67899322509766,\n",
       "  89.7259292602539,\n",
       "  99.23881530761719,\n",
       "  108.43309020996094],\n",
       " 'regularization_loss': [0,\n",
       "  0,\n",
       "  0,\n",
       "  0,\n",
       "  0,\n",
       "  0,\n",
       "  0,\n",
       "  0,\n",
       "  0,\n",
       "  0,\n",
       "  0,\n",
       "  0,\n",
       "  0,\n",
       "  0,\n",
       "  0,\n",
       "  0,\n",
       "  0,\n",
       "  0,\n",
       "  0,\n",
       "  0],\n",
       " 'total_loss': [102.99066162109375,\n",
       "  105.90265655517578,\n",
       "  102.62458801269531,\n",
       "  102.48591613769531,\n",
       "  102.52145385742188,\n",
       "  106.30781555175781,\n",
       "  106.15431213378906,\n",
       "  107.581787109375,\n",
       "  109.55614471435547,\n",
       "  102.84391784667969,\n",
       "  110.9862060546875,\n",
       "  98.47936248779297,\n",
       "  103.56147766113281,\n",
       "  100.43746185302734,\n",
       "  102.62266540527344,\n",
       "  104.75144958496094,\n",
       "  110.67899322509766,\n",
       "  89.7259292602539,\n",
       "  99.23881530761719,\n",
       "  108.43309020996094],\n",
       " 'val_factorized_top_k/top_1_categorical_accuracy': [0.0,\n",
       "  0.01600000075995922,\n",
       "  0.02500000037252903,\n",
       "  0.024000000208616257,\n",
       "  0.0,\n",
       "  0.02500000037252903,\n",
       "  0.0,\n",
       "  0.0,\n",
       "  0.00800000037997961,\n",
       "  0.01600000075995922,\n",
       "  0.00800000037997961,\n",
       "  0.0,\n",
       "  0.0,\n",
       "  0.00800000037997961,\n",
       "  0.0,\n",
       "  0.0,\n",
       "  0.024000000208616257,\n",
       "  0.0,\n",
       "  0.024000000208616257,\n",
       "  0.00800000037997961],\n",
       " 'val_factorized_top_k/top_5_categorical_accuracy': [0.03200000151991844,\n",
       "  0.03200000151991844,\n",
       "  0.04899999871850014,\n",
       "  0.04100000113248825,\n",
       "  0.04899999871850014,\n",
       "  0.05000000074505806,\n",
       "  0.05000000074505806,\n",
       "  0.041999999433755875,\n",
       "  0.05000000074505806,\n",
       "  0.04899999871850014,\n",
       "  0.05900000035762787,\n",
       "  0.05900000035762787,\n",
       "  0.04899999871850014,\n",
       "  0.05900000035762787,\n",
       "  0.03999999910593033,\n",
       "  0.04800000041723251,\n",
       "  0.12200000137090683,\n",
       "  0.0560000017285347,\n",
       "  0.05700000002980232,\n",
       "  0.05000000074505806],\n",
       " 'val_factorized_top_k/top_10_categorical_accuracy': [0.12200000137090683,\n",
       "  0.17299999296665192,\n",
       "  0.12200000137090683,\n",
       "  0.13300000131130219,\n",
       "  0.04899999871850014,\n",
       "  0.05000000074505806,\n",
       "  0.15399999916553497,\n",
       "  0.22200000286102295,\n",
       "  0.05000000074505806,\n",
       "  0.09700000286102295,\n",
       "  0.14900000393390656,\n",
       "  0.07599999755620956,\n",
       "  0.04899999871850014,\n",
       "  0.12399999797344208,\n",
       "  0.14399999380111694,\n",
       "  0.06400000303983688,\n",
       "  0.1469999998807907,\n",
       "  0.0560000017285347,\n",
       "  0.0820000022649765,\n",
       "  0.06599999964237213],\n",
       " 'val_factorized_top_k/top_50_categorical_accuracy': [0.9169999957084656,\n",
       "  0.8920000195503235,\n",
       "  0.9020000100135803,\n",
       "  0.8930000066757202,\n",
       "  0.8939999938011169,\n",
       "  0.8960000276565552,\n",
       "  0.8960000276565552,\n",
       "  0.8939999938011169,\n",
       "  0.8920000195503235,\n",
       "  0.8920000195503235,\n",
       "  0.8999999761581421,\n",
       "  0.9100000262260437,\n",
       "  0.8999999761581421,\n",
       "  0.8930000066757202,\n",
       "  0.902999997138977,\n",
       "  0.902999997138977,\n",
       "  0.8920000195503235,\n",
       "  0.9020000100135803,\n",
       "  0.9010000228881836,\n",
       "  0.9020000100135803],\n",
       " 'val_factorized_top_k/top_100_categorical_accuracy': [1.0,\n",
       "  1.0,\n",
       "  1.0,\n",
       "  1.0,\n",
       "  1.0,\n",
       "  1.0,\n",
       "  1.0,\n",
       "  1.0,\n",
       "  1.0,\n",
       "  1.0,\n",
       "  1.0,\n",
       "  1.0,\n",
       "  1.0,\n",
       "  1.0,\n",
       "  1.0,\n",
       "  1.0,\n",
       "  1.0,\n",
       "  1.0,\n",
       "  1.0,\n",
       "  1.0],\n",
       " 'val_loss': [6761.646484375,\n",
       "  6747.56005859375,\n",
       "  6734.2158203125,\n",
       "  6788.900390625,\n",
       "  6755.173828125,\n",
       "  6780.392578125,\n",
       "  6748.9453125,\n",
       "  6783.50927734375,\n",
       "  6783.54296875,\n",
       "  6763.95703125,\n",
       "  6810.578125,\n",
       "  6786.43310546875,\n",
       "  6795.38134765625,\n",
       "  6803.8173828125,\n",
       "  6834.4521484375,\n",
       "  6838.1201171875,\n",
       "  6866.12353515625,\n",
       "  6873.388671875,\n",
       "  6856.458984375,\n",
       "  6840.98876953125],\n",
       " 'val_regularization_loss': [0,\n",
       "  0,\n",
       "  0,\n",
       "  0,\n",
       "  0,\n",
       "  0,\n",
       "  0,\n",
       "  0,\n",
       "  0,\n",
       "  0,\n",
       "  0,\n",
       "  0,\n",
       "  0,\n",
       "  0,\n",
       "  0,\n",
       "  0,\n",
       "  0,\n",
       "  0,\n",
       "  0,\n",
       "  0],\n",
       " 'val_total_loss': [6761.646484375,\n",
       "  6747.56005859375,\n",
       "  6734.2158203125,\n",
       "  6788.900390625,\n",
       "  6755.173828125,\n",
       "  6780.392578125,\n",
       "  6748.9453125,\n",
       "  6783.50927734375,\n",
       "  6783.54296875,\n",
       "  6763.95703125,\n",
       "  6810.578125,\n",
       "  6786.43310546875,\n",
       "  6795.38134765625,\n",
       "  6803.8173828125,\n",
       "  6834.4521484375,\n",
       "  6838.1201171875,\n",
       "  6866.12353515625,\n",
       "  6873.388671875,\n",
       "  6856.458984375,\n",
       "  6840.98876953125]}"
      ]
     },
     "execution_count": 146,
     "metadata": {},
     "output_type": "execute_result"
    }
   ],
   "source": [
    "history.history"
   ]
  },
  {
   "cell_type": "code",
   "execution_count": 147,
   "metadata": {},
   "outputs": [
    {
     "data": {
      "text/plain": [
       "<AxesSubplot:>"
      ]
     },
     "execution_count": 147,
     "metadata": {},
     "output_type": "execute_result"
    },
    {
     "data": {
      "image/png": "[encoded data removed]",
      "text/plain": [
       "<Figure size 432x288 with 1 Axes>"
      ]
     },
     "metadata": {
      "needs_background": "light"
     },
     "output_type": "display_data"
    }
   ],
   "source": [
    "RMSE_COLS = ['total_loss', 'val_total_loss']\n",
    "\n",
    "pd.DataFrame(history.history)[RMSE_COLS].plot()"
   ]
  },
  {
   "cell_type": "code",
   "execution_count": 152,
   "metadata": {},
   "outputs": [
    {
     "name": "stdout",
     "output_type": "stream",
     "text": [
      "1/1 [==============================] - 0s 32ms/step - factorized_top_k/top_1_categorical_accuracy: 0.0080 - factorized_top_k/top_5_categorical_accuracy: 0.0490 - factorized_top_k/top_10_categorical_accuracy: 0.0650 - factorized_top_k/top_50_categorical_accuracy: 0.9010 - factorized_top_k/top_100_categorical_accuracy: 1.0000 - loss: 6846.0674 - regularization_loss: 0.0000e+00 - total_loss: 6846.0674\n"
     ]
    },
    {
     "data": {
      "text/plain": [
       "{'factorized_top_k/top_1_categorical_accuracy': 0.00800000037997961,\n",
       " 'factorized_top_k/top_5_categorical_accuracy': 0.04899999871850014,\n",
       " 'factorized_top_k/top_10_categorical_accuracy': 0.06499999761581421,\n",
       " 'factorized_top_k/top_50_categorical_accuracy': 0.9010000228881836,\n",
       " 'factorized_top_k/top_100_categorical_accuracy': 1.0,\n",
       " 'loss': 6846.0673828125,\n",
       " 'regularization_loss': 0,\n",
       " 'total_loss': 6846.0673828125}"
      ]
     },
     "execution_count": 152,
     "metadata": {},
     "output_type": "execute_result"
    }
   ],
   "source": [
    "metrics = model.evaluate(evalds, return_dict=True)\n",
    "metrics"
   ]
  },
  {
   "cell_type": "markdown",
   "metadata": {},
   "source": [
    "## Explore and deploy model"
   ]
  },
  {
   "cell_type": "code",
   "execution_count": 154,
   "metadata": {},
   "outputs": [
    {
     "name": "stdout",
     "output_type": "stream",
     "text": [
      "WARNING:tensorflow:Layers in a Sequential model should only have a single input tensor, but we receive a <class 'dict'> input: {'clientId': <tf.Tensor: shape=(1,), dtype=string, numpy=array([b'160145'], dtype=object)>, 'organization': <tf.Tensor: shape=(1,), dtype=string, numpy=array([b'leeromgeving'], dtype=object)>, 'changedPages': <tf.Tensor: shape=(1,), dtype=int64, numpy=array([5])>}\n",
      "Consider rewriting this model with the Functional API.\n",
      "Top 3 recommendations for user 160145 under leeromgeving environment: [b'/content/video/4813' b'/content/mix/7546' b'/content/video/1068']\n"
     ]
    }
   ],
   "source": [
    "index = tfrs.layers.factorized_top_k.BruteForce(keras_model.query_model)\n",
    "index.index(articles.batch(100).map(keras_model.candidate_model), articles)\n",
    "\n",
    "# Get some recommendations.\n",
    "socres, titles = index({\n",
    "                \"clientId\": np.array([\"160145\"]),\n",
    "                \"organization\": np.array([\"leeromgeving\"]),\n",
    "                \"changedPages\":np.array([5])})\n",
    "\n",
    "\n",
    "print(f\"Top 3 recommendations for user 160145 under leeromgeving environment: {titles[0, :3]}\")"
   ]
  },
  {
   "cell_type": "code",
   "execution_count": 165,
   "metadata": {},
   "outputs": [
    {
     "name": "stdout",
     "output_type": "stream",
     "text": [
      "WARNING:tensorflow:Layers in a Sequential model should only have a single input tensor, but we receive a <class 'dict'> input: {'clientId': <tf.Tensor 'clientId:0' shape=(None,) dtype=string>, 'organization': <tf.Tensor 'organization:0' shape=(None,) dtype=string>, 'changedPages': <tf.Tensor 'changedPages:0' shape=(None,) dtype=int64>}\n",
      "Consider rewriting this model with the Functional API.\n",
      "WARNING:tensorflow:Layers in a Sequential model should only have a single input tensor, but we receive a <class 'dict'> input: {'clientId': <tf.Tensor 'clientId:0' shape=(None,) dtype=string>, 'organization': <tf.Tensor 'organization:0' shape=(None,) dtype=string>, 'changedPages': <tf.Tensor 'changedPages:0' shape=(None,) dtype=int64>}\n",
      "Consider rewriting this model with the Functional API.\n",
      "WARNING:tensorflow:Layers in a Sequential model should only have a single input tensor, but we receive a <class 'dict'> input: {'clientId': <tf.Tensor 'clientId:0' shape=(None,) dtype=string>, 'organization': <tf.Tensor 'organization:0' shape=(None,) dtype=string>, 'changedPages': <tf.Tensor 'changedPages:0' shape=(None,) dtype=int64>}\n",
      "Consider rewriting this model with the Functional API.\n",
      "WARNING:tensorflow:Layers in a Sequential model should only have a single input tensor, but we receive a <class 'dict'> input: {'clientId': <tf.Tensor 'inputs_1:0' shape=(None,) dtype=string>, 'organization': <tf.Tensor 'inputs_2:0' shape=(None,) dtype=string>, 'changedPages': <tf.Tensor 'inputs:0' shape=(None,) dtype=int64>}\n",
      "Consider rewriting this model with the Functional API.\n",
      "WARNING:tensorflow:Layers in a Sequential model should only have a single input tensor, but we receive a <class 'dict'> input: {'clientId': <tf.Tensor 'inputs_1:0' shape=(None,) dtype=string>, 'organization': <tf.Tensor 'inputs_2:0' shape=(None,) dtype=string>, 'changedPages': <tf.Tensor 'inputs:0' shape=(None,) dtype=int64>}\n",
      "Consider rewriting this model with the Functional API.\n",
      "WARNING:tensorflow:Layers in a Sequential model should only have a single input tensor, but we receive a <class 'dict'> input: {'clientId': <tf.Tensor 'queries/clientId:0' shape=(None,) dtype=string>, 'organization': <tf.Tensor 'queries/organization:0' shape=(None,) dtype=string>, 'changedPages': <tf.Tensor 'queries/changedPages:0' shape=(None,) dtype=int64>}\n",
      "Consider rewriting this model with the Functional API.\n",
      "WARNING:tensorflow:Layers in a Sequential model should only have a single input tensor, but we receive a <class 'dict'> input: {'clientId': <tf.Tensor 'queries/clientId:0' shape=(None,) dtype=string>, 'organization': <tf.Tensor 'queries/organization:0' shape=(None,) dtype=string>, 'changedPages': <tf.Tensor 'queries/changedPages:0' shape=(None,) dtype=int64>}\n",
      "Consider rewriting this model with the Functional API.\n",
      "WARNING:tensorflow:Layers in a Sequential model should only have a single input tensor, but we receive a <class 'dict'> input: {'clientId': <tf.Tensor 'clientId:0' shape=(None,) dtype=string>, 'organization': <tf.Tensor 'organization:0' shape=(None,) dtype=string>, 'changedPages': <tf.Tensor 'changedPages:0' shape=(None,) dtype=int64>}\n",
      "Consider rewriting this model with the Functional API.\n",
      "WARNING:tensorflow:Layers in a Sequential model should only have a single input tensor, but we receive a <class 'dict'> input: {'clientId': <tf.Tensor 'clientId:0' shape=(None,) dtype=string>, 'organization': <tf.Tensor 'organization:0' shape=(None,) dtype=string>, 'changedPages': <tf.Tensor 'changedPages:0' shape=(None,) dtype=int64>}\n",
      "Consider rewriting this model with the Functional API.\n",
      "WARNING:tensorflow:Layers in a Sequential model should only have a single input tensor, but we receive a <class 'dict'> input: {'clientId': <tf.Tensor 'clientId:0' shape=(None,) dtype=string>, 'organization': <tf.Tensor 'organization:0' shape=(None,) dtype=string>, 'changedPages': <tf.Tensor 'changedPages:0' shape=(None,) dtype=int64>}\n",
      "Consider rewriting this model with the Functional API.\n",
      "WARNING:tensorflow:Layers in a Sequential model should only have a single input tensor, but we receive a <class 'dict'> input: {'clientId': <tf.Tensor 'clientId:0' shape=(None,) dtype=string>, 'organization': <tf.Tensor 'organization:0' shape=(None,) dtype=string>, 'changedPages': <tf.Tensor 'changedPages:0' shape=(None,) dtype=int64>}\n",
      "Consider rewriting this model with the Functional API.\n",
      "WARNING:tensorflow:Layers in a Sequential model should only have a single input tensor, but we receive a <class 'dict'> input: {'clientId': <tf.Tensor 'inputs/clientId:0' shape=(None,) dtype=string>, 'organization': <tf.Tensor 'inputs/organization:0' shape=(None,) dtype=string>, 'changedPages': <tf.Tensor 'inputs/changedPages:0' shape=(None,) dtype=int64>}\n",
      "Consider rewriting this model with the Functional API.\n",
      "WARNING:tensorflow:Layers in a Sequential model should only have a single input tensor, but we receive a <class 'dict'> input: {'clientId': <tf.Tensor 'inputs/clientId:0' shape=(None,) dtype=string>, 'organization': <tf.Tensor 'inputs/organization:0' shape=(None,) dtype=string>, 'changedPages': <tf.Tensor 'inputs/changedPages:0' shape=(None,) dtype=int64>}\n",
      "Consider rewriting this model with the Functional API.\n",
      "INFO:tensorflow:Assets written to: ./export/savedmodel/20210208182959/assets\n",
      "Model exported to: ./export/savedmodel/20210208182959\n"
     ]
    }
   ],
   "source": [
    "import datetime\n",
    "OUTPUT_DIR = \"./export/savedmodel\"\n",
    "shutil.rmtree(OUTPUT_DIR, ignore_errors=True)\n",
    "EXPORT_PATH = os.path.join(OUTPUT_DIR,\n",
    "                           datetime.datetime.now().strftime(\"%Y%m%d%H%M%S\"))\n",
    "\n",
    "index.save(EXPORT_PATH)\n",
    "print('Model exported to: {}'.format(EXPORT_PATH))"
   ]
  },
  {
   "cell_type": "code",
   "execution_count": 181,
   "metadata": {},
   "outputs": [],
   "source": [
    "EXPORT_PATH = EXPORT_PATH"
   ]
  },
  {
   "cell_type": "code",
   "execution_count": 183,
   "metadata": {},
   "outputs": [
    {
     "name": "stdout",
     "output_type": "stream",
     "text": [
      "tfrs_rec already exists\n",
      "Creating tfrs_rec:streaming_test\n"
     ]
    },
    {
     "name": "stderr",
     "output_type": "stream",
     "text": [
      "Using endpoint [https://europe-west4-ml.googleapis.com/]\n",
      "Using endpoint [https://europe-west4-ml.googleapis.com/]\n",
      "Using endpoint [https://europe-west4-ml.googleapis.com/]\n"
     ]
    }
   ],
   "source": [
    "%%bash\n",
    "PROJECT=${PROJECT}\n",
    "BUCKET=${BUCKET}\n",
    "REGION=${REGION}\n",
    "MODEL_NAME=tfrs_rec\n",
    "VERSION_NAME=streaming_test\n",
    "\n",
    "if [[ $(gcloud ai-platform models list --format='value(name)' | grep $MODEL_NAME) ]]; then\n",
    "    echo \"$MODEL_NAME already exists\"\n",
    "else\n",
    "    # create model\n",
    "    echo \"Creating $MODEL_NAME\"\n",
    "    gcloud ai-platform models create --regions=$REGION $MODEL_NAME\n",
    "fi\n",
    "\n",
    "if [[ $(gcloud ai-platform versions list --model $MODEL_NAME --format='value(name)' | grep $VERSION_NAME) ]]; then\n",
    "    echo \"Deleting already existing $MODEL_NAME:$VERSION_NAME ... \"\n",
    "    gcloud ai-platform versions delete --model=$MODEL_NAME $VERSION_NAME\n",
    "    echo \"Please run this cell again if you don't see a Creating message ... \"\n",
    "    sleep 2\n",
    "fi\n",
    "\n",
    "# create model\n",
    "echo \"Creating $MODEL_NAME:$VERSION_NAME\"\n",
    "gcloud ai-platform versions create --model=$MODEL_NAME $VERSION_NAME --async \\\n",
    "       --framework=tensorflow \\\n",
    "       --python-version=3.7 \\\n",
    "       --runtime-version=2.3 \\\n",
    "       --origin=${EXPORT_PATH} \\\n",
    "       --staging-bucket=gs://$BUCKET"
   ]
  },
  {
   "cell_type": "code",
   "execution_count": null,
   "metadata": {},
   "outputs": [],
   "source": []
  }
 ],
 "metadata": {
  "kernelspec": {
   "display_name": "Python 3",
   "language": "python",
   "name": "python3"
  },
  "language_info": {
   "codemirror_mode": {
    "name": "ipython",
    "version": 3
   },
   "file_extension": ".py",
   "mimetype": "text/x-python",
   "name": "python",
   "nbconvert_exporter": "python",
   "pygments_lexer": "ipython3",
   "version": "3.6.12"
  }
 },
 "nbformat": 4,
 "nbformat_minor": 4
}
